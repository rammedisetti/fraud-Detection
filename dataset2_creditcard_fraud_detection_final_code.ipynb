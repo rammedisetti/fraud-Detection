{
  "cells": [
    {
      "cell_type": "markdown",
      "metadata": {
        "id": "2m5TkMuRGBb3"
      },
      "source": [
        "#CREDIT CARD FRAUD DETECTION "
      ]
    },
    {
      "cell_type": "markdown",
      "metadata": {
        "id": "yA186R_eGasD"
      },
      "source": [
        "# Data Preprocessing"
      ]
    },
    {
      "cell_type": "markdown",
      "metadata": {
        "id": "cWr7y8lEeHKY"
      },
      "source": [
        "**Importing libraries**"
      ]
    },
    {
      "cell_type": "code",
      "execution_count": null,
      "metadata": {
        "id": "KPu7SbV_HY6a"
      },
      "outputs": [],
      "source": [
        "import numpy as np\n",
        "import pandas as pd\n",
        "\n",
        "import matplotlib.pyplot as plt\n",
        "%matplotlib inline\n",
        "import seaborn as sns\n",
        "\n",
        "import warnings\n",
        "warnings.filterwarnings('ignore')"
      ]
    },
    {
      "cell_type": "markdown",
      "metadata": {
        "id": "L7WRIi2aeF1x"
      },
      "source": [
        "**Exploratory data analysis\n",
        "Reading and understanding the data**\n"
      ]
    },
    {
      "cell_type": "code",
      "execution_count": null,
      "metadata": {
        "colab": {
          "base_uri": "https://localhost:8080/",
          "height": 594
        },
        "id": "1YVeReKSeSmD",
        "outputId": "ab0ea0c7-0558-4246-d3de-d1552777c8ee"
      },
      "outputs": [
        {
          "output_type": "execute_result",
          "data": {
            "text/plain": [
              "   Unnamed: 0 trans_date_trans_time            cc_num  \\\n",
              "0           0   2019-01-01 00:00:18  2703186189652095   \n",
              "1           1   2019-01-01 00:00:44      630423337322   \n",
              "2           2   2019-01-01 00:00:51    38859492057661   \n",
              "3           3   2019-01-01 00:01:16  3534093764340240   \n",
              "4           4   2019-01-01 00:03:06   375534208663984   \n",
              "\n",
              "                             merchant       category     amt      first  \\\n",
              "0          fraud_Rippin, Kub and Mann       misc_net    4.97   Jennifer   \n",
              "1     fraud_Heller, Gutmann and Zieme    grocery_pos  107.23  Stephanie   \n",
              "2                fraud_Lind-Buckridge  entertainment  220.11     Edward   \n",
              "3  fraud_Kutch, Hermiston and Farrell  gas_transport   45.00     Jeremy   \n",
              "4                 fraud_Keeling-Crist       misc_pos   41.96      Tyler   \n",
              "\n",
              "      last gender                        street  ...      lat      long  \\\n",
              "0    Banks      F                561 Perry Cove  ...  36.0788  -81.1781   \n",
              "1     Gill      F  43039 Riley Greens Suite 393  ...  48.8878 -118.2105   \n",
              "2  Sanchez      M      594 White Dale Suite 530  ...  42.1808 -112.2620   \n",
              "3    White      M   9443 Cynthia Court Apt. 038  ...  46.2306 -112.1138   \n",
              "4   Garcia      M              408 Bradley Rest  ...  38.4207  -79.4629   \n",
              "\n",
              "   city_pop                                job         dob  \\\n",
              "0      3495          Psychologist, counselling  1988-03-09   \n",
              "1       149  Special educational needs teacher  1978-06-21   \n",
              "2      4154        Nature conservation officer  1962-01-19   \n",
              "3      1939                    Patent attorney  1967-01-12   \n",
              "4        99     Dance movement psychotherapist  1986-03-28   \n",
              "\n",
              "                          trans_num   unix_time  merch_lat  merch_long  \\\n",
              "0  0b242abb623afc578575680df30655b9  1325376018  36.011293  -82.048315   \n",
              "1  1f76529f8574734946361c461b024d99  1325376044  49.159047 -118.186462   \n",
              "2  a1a22d70485983eac12b5b88dad1cf95  1325376051  43.150704 -112.154481   \n",
              "3  6b849c168bdad6f867558c3793159a81  1325376076  47.034331 -112.561071   \n",
              "4  a41d7549acf90789359a9aa5346dcb46  1325376186  38.674999  -78.632459   \n",
              "\n",
              "   is_fraud  \n",
              "0         0  \n",
              "1         0  \n",
              "2         0  \n",
              "3         0  \n",
              "4         0  \n",
              "\n",
              "[5 rows x 23 columns]"
            ],
            "text/html": [
              "\n",
              "  <div id=\"df-9c028534-4807-4c66-a3a7-cba58e5c3bbd\">\n",
              "    <div class=\"colab-df-container\">\n",
              "      <div>\n",
              "<style scoped>\n",
              "    .dataframe tbody tr th:only-of-type {\n",
              "        vertical-align: middle;\n",
              "    }\n",
              "\n",
              "    .dataframe tbody tr th {\n",
              "        vertical-align: top;\n",
              "    }\n",
              "\n",
              "    .dataframe thead th {\n",
              "        text-align: right;\n",
              "    }\n",
              "</style>\n",
              "<table border=\"1\" class=\"dataframe\">\n",
              "  <thead>\n",
              "    <tr style=\"text-align: right;\">\n",
              "      <th></th>\n",
              "      <th>Unnamed: 0</th>\n",
              "      <th>trans_date_trans_time</th>\n",
              "      <th>cc_num</th>\n",
              "      <th>merchant</th>\n",
              "      <th>category</th>\n",
              "      <th>amt</th>\n",
              "      <th>first</th>\n",
              "      <th>last</th>\n",
              "      <th>gender</th>\n",
              "      <th>street</th>\n",
              "      <th>...</th>\n",
              "      <th>lat</th>\n",
              "      <th>long</th>\n",
              "      <th>city_pop</th>\n",
              "      <th>job</th>\n",
              "      <th>dob</th>\n",
              "      <th>trans_num</th>\n",
              "      <th>unix_time</th>\n",
              "      <th>merch_lat</th>\n",
              "      <th>merch_long</th>\n",
              "      <th>is_fraud</th>\n",
              "    </tr>\n",
              "  </thead>\n",
              "  <tbody>\n",
              "    <tr>\n",
              "      <th>0</th>\n",
              "      <td>0</td>\n",
              "      <td>2019-01-01 00:00:18</td>\n",
              "      <td>2703186189652095</td>\n",
              "      <td>fraud_Rippin, Kub and Mann</td>\n",
              "      <td>misc_net</td>\n",
              "      <td>4.97</td>\n",
              "      <td>Jennifer</td>\n",
              "      <td>Banks</td>\n",
              "      <td>F</td>\n",
              "      <td>561 Perry Cove</td>\n",
              "      <td>...</td>\n",
              "      <td>36.0788</td>\n",
              "      <td>-81.1781</td>\n",
              "      <td>3495</td>\n",
              "      <td>Psychologist, counselling</td>\n",
              "      <td>1988-03-09</td>\n",
              "      <td>0b242abb623afc578575680df30655b9</td>\n",
              "      <td>1325376018</td>\n",
              "      <td>36.011293</td>\n",
              "      <td>-82.048315</td>\n",
              "      <td>0</td>\n",
              "    </tr>\n",
              "    <tr>\n",
              "      <th>1</th>\n",
              "      <td>1</td>\n",
              "      <td>2019-01-01 00:00:44</td>\n",
              "      <td>630423337322</td>\n",
              "      <td>fraud_Heller, Gutmann and Zieme</td>\n",
              "      <td>grocery_pos</td>\n",
              "      <td>107.23</td>\n",
              "      <td>Stephanie</td>\n",
              "      <td>Gill</td>\n",
              "      <td>F</td>\n",
              "      <td>43039 Riley Greens Suite 393</td>\n",
              "      <td>...</td>\n",
              "      <td>48.8878</td>\n",
              "      <td>-118.2105</td>\n",
              "      <td>149</td>\n",
              "      <td>Special educational needs teacher</td>\n",
              "      <td>1978-06-21</td>\n",
              "      <td>1f76529f8574734946361c461b024d99</td>\n",
              "      <td>1325376044</td>\n",
              "      <td>49.159047</td>\n",
              "      <td>-118.186462</td>\n",
              "      <td>0</td>\n",
              "    </tr>\n",
              "    <tr>\n",
              "      <th>2</th>\n",
              "      <td>2</td>\n",
              "      <td>2019-01-01 00:00:51</td>\n",
              "      <td>38859492057661</td>\n",
              "      <td>fraud_Lind-Buckridge</td>\n",
              "      <td>entertainment</td>\n",
              "      <td>220.11</td>\n",
              "      <td>Edward</td>\n",
              "      <td>Sanchez</td>\n",
              "      <td>M</td>\n",
              "      <td>594 White Dale Suite 530</td>\n",
              "      <td>...</td>\n",
              "      <td>42.1808</td>\n",
              "      <td>-112.2620</td>\n",
              "      <td>4154</td>\n",
              "      <td>Nature conservation officer</td>\n",
              "      <td>1962-01-19</td>\n",
              "      <td>a1a22d70485983eac12b5b88dad1cf95</td>\n",
              "      <td>1325376051</td>\n",
              "      <td>43.150704</td>\n",
              "      <td>-112.154481</td>\n",
              "      <td>0</td>\n",
              "    </tr>\n",
              "    <tr>\n",
              "      <th>3</th>\n",
              "      <td>3</td>\n",
              "      <td>2019-01-01 00:01:16</td>\n",
              "      <td>3534093764340240</td>\n",
              "      <td>fraud_Kutch, Hermiston and Farrell</td>\n",
              "      <td>gas_transport</td>\n",
              "      <td>45.00</td>\n",
              "      <td>Jeremy</td>\n",
              "      <td>White</td>\n",
              "      <td>M</td>\n",
              "      <td>9443 Cynthia Court Apt. 038</td>\n",
              "      <td>...</td>\n",
              "      <td>46.2306</td>\n",
              "      <td>-112.1138</td>\n",
              "      <td>1939</td>\n",
              "      <td>Patent attorney</td>\n",
              "      <td>1967-01-12</td>\n",
              "      <td>6b849c168bdad6f867558c3793159a81</td>\n",
              "      <td>1325376076</td>\n",
              "      <td>47.034331</td>\n",
              "      <td>-112.561071</td>\n",
              "      <td>0</td>\n",
              "    </tr>\n",
              "    <tr>\n",
              "      <th>4</th>\n",
              "      <td>4</td>\n",
              "      <td>2019-01-01 00:03:06</td>\n",
              "      <td>375534208663984</td>\n",
              "      <td>fraud_Keeling-Crist</td>\n",
              "      <td>misc_pos</td>\n",
              "      <td>41.96</td>\n",
              "      <td>Tyler</td>\n",
              "      <td>Garcia</td>\n",
              "      <td>M</td>\n",
              "      <td>408 Bradley Rest</td>\n",
              "      <td>...</td>\n",
              "      <td>38.4207</td>\n",
              "      <td>-79.4629</td>\n",
              "      <td>99</td>\n",
              "      <td>Dance movement psychotherapist</td>\n",
              "      <td>1986-03-28</td>\n",
              "      <td>a41d7549acf90789359a9aa5346dcb46</td>\n",
              "      <td>1325376186</td>\n",
              "      <td>38.674999</td>\n",
              "      <td>-78.632459</td>\n",
              "      <td>0</td>\n",
              "    </tr>\n",
              "  </tbody>\n",
              "</table>\n",
              "<p>5 rows × 23 columns</p>\n",
              "</div>\n",
              "      <button class=\"colab-df-convert\" onclick=\"convertToInteractive('df-9c028534-4807-4c66-a3a7-cba58e5c3bbd')\"\n",
              "              title=\"Convert this dataframe to an interactive table.\"\n",
              "              style=\"display:none;\">\n",
              "        \n",
              "  <svg xmlns=\"http://www.w3.org/2000/svg\" height=\"24px\"viewBox=\"0 0 24 24\"\n",
              "       width=\"24px\">\n",
              "    <path d=\"M0 0h24v24H0V0z\" fill=\"none\"/>\n",
              "    <path d=\"M18.56 5.44l.94 2.06.94-2.06 2.06-.94-2.06-.94-.94-2.06-.94 2.06-2.06.94zm-11 1L8.5 8.5l.94-2.06 2.06-.94-2.06-.94L8.5 2.5l-.94 2.06-2.06.94zm10 10l.94 2.06.94-2.06 2.06-.94-2.06-.94-.94-2.06-.94 2.06-2.06.94z\"/><path d=\"M17.41 7.96l-1.37-1.37c-.4-.4-.92-.59-1.43-.59-.52 0-1.04.2-1.43.59L10.3 9.45l-7.72 7.72c-.78.78-.78 2.05 0 2.83L4 21.41c.39.39.9.59 1.41.59.51 0 1.02-.2 1.41-.59l7.78-7.78 2.81-2.81c.8-.78.8-2.07 0-2.86zM5.41 20L4 18.59l7.72-7.72 1.47 1.35L5.41 20z\"/>\n",
              "  </svg>\n",
              "      </button>\n",
              "      \n",
              "  <style>\n",
              "    .colab-df-container {\n",
              "      display:flex;\n",
              "      flex-wrap:wrap;\n",
              "      gap: 12px;\n",
              "    }\n",
              "\n",
              "    .colab-df-convert {\n",
              "      background-color: #E8F0FE;\n",
              "      border: none;\n",
              "      border-radius: 50%;\n",
              "      cursor: pointer;\n",
              "      display: none;\n",
              "      fill: #1967D2;\n",
              "      height: 32px;\n",
              "      padding: 0 0 0 0;\n",
              "      width: 32px;\n",
              "    }\n",
              "\n",
              "    .colab-df-convert:hover {\n",
              "      background-color: #E2EBFA;\n",
              "      box-shadow: 0px 1px 2px rgba(60, 64, 67, 0.3), 0px 1px 3px 1px rgba(60, 64, 67, 0.15);\n",
              "      fill: #174EA6;\n",
              "    }\n",
              "\n",
              "    [theme=dark] .colab-df-convert {\n",
              "      background-color: #3B4455;\n",
              "      fill: #D2E3FC;\n",
              "    }\n",
              "\n",
              "    [theme=dark] .colab-df-convert:hover {\n",
              "      background-color: #434B5C;\n",
              "      box-shadow: 0px 1px 3px 1px rgba(0, 0, 0, 0.15);\n",
              "      filter: drop-shadow(0px 1px 2px rgba(0, 0, 0, 0.3));\n",
              "      fill: #FFFFFF;\n",
              "    }\n",
              "  </style>\n",
              "\n",
              "      <script>\n",
              "        const buttonEl =\n",
              "          document.querySelector('#df-9c028534-4807-4c66-a3a7-cba58e5c3bbd button.colab-df-convert');\n",
              "        buttonEl.style.display =\n",
              "          google.colab.kernel.accessAllowed ? 'block' : 'none';\n",
              "\n",
              "        async function convertToInteractive(key) {\n",
              "          const element = document.querySelector('#df-9c028534-4807-4c66-a3a7-cba58e5c3bbd');\n",
              "          const dataTable =\n",
              "            await google.colab.kernel.invokeFunction('convertToInteractive',\n",
              "                                                     [key], {});\n",
              "          if (!dataTable) return;\n",
              "\n",
              "          const docLinkHtml = 'Like what you see? Visit the ' +\n",
              "            '<a target=\"_blank\" href=https://colab.research.google.com/notebooks/data_table.ipynb>data table notebook</a>'\n",
              "            + ' to learn more about interactive tables.';\n",
              "          element.innerHTML = '';\n",
              "          dataTable['output_type'] = 'display_data';\n",
              "          await google.colab.output.renderOutput(dataTable, element);\n",
              "          const docLink = document.createElement('div');\n",
              "          docLink.innerHTML = docLinkHtml;\n",
              "          element.appendChild(docLink);\n",
              "        }\n",
              "      </script>\n",
              "    </div>\n",
              "  </div>\n",
              "  "
            ]
          },
          "metadata": {},
          "execution_count": 109
        }
      ],
      "source": [
        "df2 = pd.read_csv('/content/drive/MyDrive/capstone/dataset_2.csv')\n",
        "df2.head()\n"
      ]
    },
    {
      "cell_type": "code",
      "execution_count": null,
      "metadata": {
        "colab": {
          "base_uri": "https://localhost:8080/"
        },
        "id": "EbvjSiNquTli",
        "outputId": "7a7c64d9-dc8e-4b1b-9e45-ce30a17d8ab3"
      },
      "outputs": [
        {
          "output_type": "execute_result",
          "data": {
            "text/plain": [
              "(1852394, 23)"
            ]
          },
          "metadata": {},
          "execution_count": 110
        }
      ],
      "source": [
        "df2.shape"
      ]
    },
    {
      "cell_type": "code",
      "execution_count": null,
      "metadata": {
        "colab": {
          "base_uri": "https://localhost:8080/"
        },
        "id": "hlwG35NcfP6Z",
        "outputId": "e1d17608-2a16-4cf0-9ef0-d38fe8840c8a"
      },
      "outputs": [
        {
          "output_type": "stream",
          "name": "stdout",
          "text": [
            "<class 'pandas.core.frame.DataFrame'>\n",
            "RangeIndex: 1852394 entries, 0 to 1852393\n",
            "Data columns (total 23 columns):\n",
            " #   Column                 Dtype  \n",
            "---  ------                 -----  \n",
            " 0   Unnamed: 0             int64  \n",
            " 1   trans_date_trans_time  object \n",
            " 2   cc_num                 int64  \n",
            " 3   merchant               object \n",
            " 4   category               object \n",
            " 5   amt                    float64\n",
            " 6   first                  object \n",
            " 7   last                   object \n",
            " 8   gender                 object \n",
            " 9   street                 object \n",
            " 10  city                   object \n",
            " 11  state                  object \n",
            " 12  zip                    int64  \n",
            " 13  lat                    float64\n",
            " 14  long                   float64\n",
            " 15  city_pop               int64  \n",
            " 16  job                    object \n",
            " 17  dob                    object \n",
            " 18  trans_num              object \n",
            " 19  unix_time              int64  \n",
            " 20  merch_lat              float64\n",
            " 21  merch_long             float64\n",
            " 22  is_fraud               int64  \n",
            "dtypes: float64(5), int64(6), object(12)\n",
            "memory usage: 325.1+ MB\n"
          ]
        }
      ],
      "source": [
        "df2.info()"
      ]
    },
    {
      "cell_type": "markdown",
      "metadata": {
        "id": "tO3b5AUvfeQ5"
      },
      "source": [
        "**Handling missing values**"
      ]
    },
    {
      "cell_type": "code",
      "execution_count": null,
      "metadata": {
        "colab": {
          "base_uri": "https://localhost:8080/"
        },
        "id": "fH5TVQlAfT61",
        "outputId": "bf089422-b370-4c36-aa5e-a395946cb0b5"
      },
      "outputs": [
        {
          "output_type": "execute_result",
          "data": {
            "text/plain": [
              "Unnamed: 0               0\n",
              "trans_date_trans_time    0\n",
              "cc_num                   0\n",
              "merchant                 0\n",
              "category                 0\n",
              "amt                      0\n",
              "first                    0\n",
              "last                     0\n",
              "gender                   0\n",
              "street                   0\n",
              "city                     0\n",
              "state                    0\n",
              "zip                      0\n",
              "lat                      0\n",
              "long                     0\n",
              "city_pop                 0\n",
              "job                      0\n",
              "dob                      0\n",
              "trans_num                0\n",
              "unix_time                0\n",
              "merch_lat                0\n",
              "merch_long               0\n",
              "is_fraud                 0\n",
              "dtype: int64"
            ]
          },
          "metadata": {},
          "execution_count": 112
        }
      ],
      "source": [
        "df2.isnull().sum()"
      ]
    },
    {
      "cell_type": "markdown",
      "metadata": {
        "id": "G76ay7wof1yH"
      },
      "source": [
        "**Checking the distribution of the classes**"
      ]
    },
    {
      "cell_type": "code",
      "execution_count": null,
      "metadata": {
        "colab": {
          "base_uri": "https://localhost:8080/"
        },
        "id": "fLD1Oq0bf46k",
        "outputId": "880a96a0-7528-409d-b074-9f397e109e6f"
      },
      "outputs": [
        {
          "output_type": "execute_result",
          "data": {
            "text/plain": [
              "0    1842743\n",
              "1       9651\n",
              "Name: is_fraud, dtype: int64"
            ]
          },
          "metadata": {},
          "execution_count": 113
        }
      ],
      "source": [
        "df2.is_fraud.value_counts()\n"
      ]
    },
    {
      "cell_type": "code",
      "execution_count": null,
      "metadata": {
        "colab": {
          "base_uri": "https://localhost:8080/"
        },
        "id": "1m6TSzMBgYcD",
        "outputId": "b0f826f7-83f5-49e1-99fb-37bbb245049d"
      },
      "outputs": [
        {
          "output_type": "execute_result",
          "data": {
            "text/plain": [
              "0    99.478999\n",
              "1     0.521001\n",
              "Name: is_fraud, dtype: float64"
            ]
          },
          "metadata": {},
          "execution_count": 114
        }
      ],
      "source": [
        "df2.is_fraud.value_counts()*100/df2.shape[0]\n"
      ]
    },
    {
      "cell_type": "markdown",
      "metadata": {
        "id": "YDFaHD-2Osr5"
      },
      "source": [
        "**Downsampling Data**"
      ]
    },
    {
      "cell_type": "code",
      "execution_count": null,
      "metadata": {
        "colab": {
          "base_uri": "https://localhost:8080/"
        },
        "id": "V2B8i0kFE2Cj",
        "outputId": "8ba5d7d0-285f-40b0-f1ec-53aa456921f4"
      },
      "outputs": [
        {
          "output_type": "stream",
          "name": "stdout",
          "text": [
            "<class 'pandas.core.frame.DataFrame'>\n",
            "Int64Index: 28953 entries, 123118 to 1814246\n",
            "Data columns (total 23 columns):\n",
            " #   Column                 Non-Null Count  Dtype  \n",
            "---  ------                 --------------  -----  \n",
            " 0   Unnamed: 0             28953 non-null  int64  \n",
            " 1   trans_date_trans_time  28953 non-null  object \n",
            " 2   cc_num                 28953 non-null  int64  \n",
            " 3   merchant               28953 non-null  object \n",
            " 4   category               28953 non-null  object \n",
            " 5   amt                    28953 non-null  float64\n",
            " 6   first                  28953 non-null  object \n",
            " 7   last                   28953 non-null  object \n",
            " 8   gender                 28953 non-null  object \n",
            " 9   street                 28953 non-null  object \n",
            " 10  city                   28953 non-null  object \n",
            " 11  state                  28953 non-null  object \n",
            " 12  zip                    28953 non-null  int64  \n",
            " 13  lat                    28953 non-null  float64\n",
            " 14  long                   28953 non-null  float64\n",
            " 15  city_pop               28953 non-null  int64  \n",
            " 16  job                    28953 non-null  object \n",
            " 17  dob                    28953 non-null  object \n",
            " 18  trans_num              28953 non-null  object \n",
            " 19  unix_time              28953 non-null  int64  \n",
            " 20  merch_lat              28953 non-null  float64\n",
            " 21  merch_long             28953 non-null  float64\n",
            " 22  is_fraud               28953 non-null  int64  \n",
            "dtypes: float64(5), int64(6), object(12)\n",
            "memory usage: 5.3+ MB\n"
          ]
        }
      ],
      "source": [
        "from sklearn.utils import resample \n",
        "df_valid = df2[df2.iloc[:,22].values==0] # .iloc[:,22] = is_fraud\n",
        "df_fraud = df2[df2.iloc[:,22].values==1] \n",
        " \n",
        "\n",
        "df_valid_downsampled = resample(df_valid,\n",
        "                                 n_samples=19302,    \n",
        "                                 random_state=42)    \n",
        " \n",
        "\n",
        "df_downsampled = pd.concat([df_valid_downsampled, df_fraud])\n",
        " \n",
        "\n",
        "df_downsampled.info()"
      ]
    },
    {
      "cell_type": "code",
      "execution_count": null,
      "metadata": {
        "colab": {
          "base_uri": "https://localhost:8080/"
        },
        "id": "2wJM-17bFiSQ",
        "outputId": "10da3517-a3e0-48af-b1e6-a84f8d5a0ea9"
      },
      "outputs": [
        {
          "output_type": "execute_result",
          "data": {
            "text/plain": [
              "0    19302\n",
              "1     9651\n",
              "Name: is_fraud, dtype: int64"
            ]
          },
          "metadata": {},
          "execution_count": 116
        }
      ],
      "source": [
        "df_downsampled.is_fraud.value_counts()"
      ]
    },
    {
      "cell_type": "markdown",
      "metadata": {
        "id": "_xazw6tRQAOS"
      },
      "source": [
        "**Dividing transaction date and month**"
      ]
    },
    {
      "cell_type": "code",
      "execution_count": null,
      "metadata": {
        "colab": {
          "base_uri": "https://localhost:8080/",
          "height": 421
        },
        "id": "qTebON6Gyt4Y",
        "outputId": "d5289e1b-1a45-49f9-bfc7-36d7087c51be"
      },
      "outputs": [
        {
          "output_type": "execute_result",
          "data": {
            "text/plain": [
              "         Unnamed: 0 trans_date_trans_time            cc_num  \\\n",
              "123118       123118   2019-03-10 03:24:30    30011465039817   \n",
              "675160       675160   2019-10-14 15:40:47  2288813824604479   \n",
              "133167       133167   2019-03-14 15:21:51  2266735643685262   \n",
              "1422423      125748   2020-08-04 00:05:40  3542162746848552   \n",
              "261154       261154   2019-05-10 09:04:20  4384910379661778   \n",
              "\n",
              "                    merchant        category    amt     first      last  \\\n",
              "123118     fraud_Huels-Nolan   gas_transport  67.66      Lisa    Garcia   \n",
              "675160     fraud_Yost-Rogahn   personal_care  47.79   Barbara    Norman   \n",
              "133167    fraud_Roob-Okuneva  health_fitness  24.17    Carlos     Chung   \n",
              "1422423  fraud_Stamm-Witting    shopping_net   2.30   Bradley  Anderson   \n",
              "261154        fraud_Howe Ltd        misc_pos  51.69  Michelle   Russell   \n",
              "\n",
              "        gender                 street  ...                      job  \\\n",
              "123118       F    213 Gill Expressway  ...  Human resources officer   \n",
              "675160       F  6278 Stephanie Unions  ...                Herbalist   \n",
              "133167       M       8957 Russell Key  ...                  Curator   \n",
              "1422423      M      3896 Gilmore Mill  ...  Communications engineer   \n",
              "261154       F      55505 Christy Via  ...          Naval architect   \n",
              "\n",
              "                dob                         trans_num   unix_time  merch_lat  \\\n",
              "123118   1971-10-14  6744f95a0c456529c4a35cb30a5cb396  1331349870  42.974691   \n",
              "675160   1981-08-29  7c53e2c5bb6aa689753574d9f8ae623f  1350229247  41.046486   \n",
              "133167   1972-07-25  0b3a94c9a2f622d2f3c3399a6cc3910b  1331738511  34.956184   \n",
              "1422423  1968-01-28  f365432529de779881bd7a3292fcc38a  1375574740  43.455569   \n",
              "261154   1949-04-24  35caf2d1468a377e45235274b005aa02  1336640660  46.851874   \n",
              "\n",
              "         merch_long is_fraud week_number month_number  year  \n",
              "123118   -73.944930        0           6            3  2019  \n",
              "675160   -74.132901        0           0           10  2019  \n",
              "133167   -86.986784        0           3            3  2019  \n",
              "1422423  -93.662698        0           1            8  2020  \n",
              "261154   -97.269843        0           4            5  2019  \n",
              "\n",
              "[5 rows x 26 columns]"
            ],
            "text/html": [
              "\n",
              "  <div id=\"df-a7799ca2-12d0-41e6-a48d-a2ebc684c729\">\n",
              "    <div class=\"colab-df-container\">\n",
              "      <div>\n",
              "<style scoped>\n",
              "    .dataframe tbody tr th:only-of-type {\n",
              "        vertical-align: middle;\n",
              "    }\n",
              "\n",
              "    .dataframe tbody tr th {\n",
              "        vertical-align: top;\n",
              "    }\n",
              "\n",
              "    .dataframe thead th {\n",
              "        text-align: right;\n",
              "    }\n",
              "</style>\n",
              "<table border=\"1\" class=\"dataframe\">\n",
              "  <thead>\n",
              "    <tr style=\"text-align: right;\">\n",
              "      <th></th>\n",
              "      <th>Unnamed: 0</th>\n",
              "      <th>trans_date_trans_time</th>\n",
              "      <th>cc_num</th>\n",
              "      <th>merchant</th>\n",
              "      <th>category</th>\n",
              "      <th>amt</th>\n",
              "      <th>first</th>\n",
              "      <th>last</th>\n",
              "      <th>gender</th>\n",
              "      <th>street</th>\n",
              "      <th>...</th>\n",
              "      <th>job</th>\n",
              "      <th>dob</th>\n",
              "      <th>trans_num</th>\n",
              "      <th>unix_time</th>\n",
              "      <th>merch_lat</th>\n",
              "      <th>merch_long</th>\n",
              "      <th>is_fraud</th>\n",
              "      <th>week_number</th>\n",
              "      <th>month_number</th>\n",
              "      <th>year</th>\n",
              "    </tr>\n",
              "  </thead>\n",
              "  <tbody>\n",
              "    <tr>\n",
              "      <th>123118</th>\n",
              "      <td>123118</td>\n",
              "      <td>2019-03-10 03:24:30</td>\n",
              "      <td>30011465039817</td>\n",
              "      <td>fraud_Huels-Nolan</td>\n",
              "      <td>gas_transport</td>\n",
              "      <td>67.66</td>\n",
              "      <td>Lisa</td>\n",
              "      <td>Garcia</td>\n",
              "      <td>F</td>\n",
              "      <td>213 Gill Expressway</td>\n",
              "      <td>...</td>\n",
              "      <td>Human resources officer</td>\n",
              "      <td>1971-10-14</td>\n",
              "      <td>6744f95a0c456529c4a35cb30a5cb396</td>\n",
              "      <td>1331349870</td>\n",
              "      <td>42.974691</td>\n",
              "      <td>-73.944930</td>\n",
              "      <td>0</td>\n",
              "      <td>6</td>\n",
              "      <td>3</td>\n",
              "      <td>2019</td>\n",
              "    </tr>\n",
              "    <tr>\n",
              "      <th>675160</th>\n",
              "      <td>675160</td>\n",
              "      <td>2019-10-14 15:40:47</td>\n",
              "      <td>2288813824604479</td>\n",
              "      <td>fraud_Yost-Rogahn</td>\n",
              "      <td>personal_care</td>\n",
              "      <td>47.79</td>\n",
              "      <td>Barbara</td>\n",
              "      <td>Norman</td>\n",
              "      <td>F</td>\n",
              "      <td>6278 Stephanie Unions</td>\n",
              "      <td>...</td>\n",
              "      <td>Herbalist</td>\n",
              "      <td>1981-08-29</td>\n",
              "      <td>7c53e2c5bb6aa689753574d9f8ae623f</td>\n",
              "      <td>1350229247</td>\n",
              "      <td>41.046486</td>\n",
              "      <td>-74.132901</td>\n",
              "      <td>0</td>\n",
              "      <td>0</td>\n",
              "      <td>10</td>\n",
              "      <td>2019</td>\n",
              "    </tr>\n",
              "    <tr>\n",
              "      <th>133167</th>\n",
              "      <td>133167</td>\n",
              "      <td>2019-03-14 15:21:51</td>\n",
              "      <td>2266735643685262</td>\n",
              "      <td>fraud_Roob-Okuneva</td>\n",
              "      <td>health_fitness</td>\n",
              "      <td>24.17</td>\n",
              "      <td>Carlos</td>\n",
              "      <td>Chung</td>\n",
              "      <td>M</td>\n",
              "      <td>8957 Russell Key</td>\n",
              "      <td>...</td>\n",
              "      <td>Curator</td>\n",
              "      <td>1972-07-25</td>\n",
              "      <td>0b3a94c9a2f622d2f3c3399a6cc3910b</td>\n",
              "      <td>1331738511</td>\n",
              "      <td>34.956184</td>\n",
              "      <td>-86.986784</td>\n",
              "      <td>0</td>\n",
              "      <td>3</td>\n",
              "      <td>3</td>\n",
              "      <td>2019</td>\n",
              "    </tr>\n",
              "    <tr>\n",
              "      <th>1422423</th>\n",
              "      <td>125748</td>\n",
              "      <td>2020-08-04 00:05:40</td>\n",
              "      <td>3542162746848552</td>\n",
              "      <td>fraud_Stamm-Witting</td>\n",
              "      <td>shopping_net</td>\n",
              "      <td>2.30</td>\n",
              "      <td>Bradley</td>\n",
              "      <td>Anderson</td>\n",
              "      <td>M</td>\n",
              "      <td>3896 Gilmore Mill</td>\n",
              "      <td>...</td>\n",
              "      <td>Communications engineer</td>\n",
              "      <td>1968-01-28</td>\n",
              "      <td>f365432529de779881bd7a3292fcc38a</td>\n",
              "      <td>1375574740</td>\n",
              "      <td>43.455569</td>\n",
              "      <td>-93.662698</td>\n",
              "      <td>0</td>\n",
              "      <td>1</td>\n",
              "      <td>8</td>\n",
              "      <td>2020</td>\n",
              "    </tr>\n",
              "    <tr>\n",
              "      <th>261154</th>\n",
              "      <td>261154</td>\n",
              "      <td>2019-05-10 09:04:20</td>\n",
              "      <td>4384910379661778</td>\n",
              "      <td>fraud_Howe Ltd</td>\n",
              "      <td>misc_pos</td>\n",
              "      <td>51.69</td>\n",
              "      <td>Michelle</td>\n",
              "      <td>Russell</td>\n",
              "      <td>F</td>\n",
              "      <td>55505 Christy Via</td>\n",
              "      <td>...</td>\n",
              "      <td>Naval architect</td>\n",
              "      <td>1949-04-24</td>\n",
              "      <td>35caf2d1468a377e45235274b005aa02</td>\n",
              "      <td>1336640660</td>\n",
              "      <td>46.851874</td>\n",
              "      <td>-97.269843</td>\n",
              "      <td>0</td>\n",
              "      <td>4</td>\n",
              "      <td>5</td>\n",
              "      <td>2019</td>\n",
              "    </tr>\n",
              "  </tbody>\n",
              "</table>\n",
              "<p>5 rows × 26 columns</p>\n",
              "</div>\n",
              "      <button class=\"colab-df-convert\" onclick=\"convertToInteractive('df-a7799ca2-12d0-41e6-a48d-a2ebc684c729')\"\n",
              "              title=\"Convert this dataframe to an interactive table.\"\n",
              "              style=\"display:none;\">\n",
              "        \n",
              "  <svg xmlns=\"http://www.w3.org/2000/svg\" height=\"24px\"viewBox=\"0 0 24 24\"\n",
              "       width=\"24px\">\n",
              "    <path d=\"M0 0h24v24H0V0z\" fill=\"none\"/>\n",
              "    <path d=\"M18.56 5.44l.94 2.06.94-2.06 2.06-.94-2.06-.94-.94-2.06-.94 2.06-2.06.94zm-11 1L8.5 8.5l.94-2.06 2.06-.94-2.06-.94L8.5 2.5l-.94 2.06-2.06.94zm10 10l.94 2.06.94-2.06 2.06-.94-2.06-.94-.94-2.06-.94 2.06-2.06.94z\"/><path d=\"M17.41 7.96l-1.37-1.37c-.4-.4-.92-.59-1.43-.59-.52 0-1.04.2-1.43.59L10.3 9.45l-7.72 7.72c-.78.78-.78 2.05 0 2.83L4 21.41c.39.39.9.59 1.41.59.51 0 1.02-.2 1.41-.59l7.78-7.78 2.81-2.81c.8-.78.8-2.07 0-2.86zM5.41 20L4 18.59l7.72-7.72 1.47 1.35L5.41 20z\"/>\n",
              "  </svg>\n",
              "      </button>\n",
              "      \n",
              "  <style>\n",
              "    .colab-df-container {\n",
              "      display:flex;\n",
              "      flex-wrap:wrap;\n",
              "      gap: 12px;\n",
              "    }\n",
              "\n",
              "    .colab-df-convert {\n",
              "      background-color: #E8F0FE;\n",
              "      border: none;\n",
              "      border-radius: 50%;\n",
              "      cursor: pointer;\n",
              "      display: none;\n",
              "      fill: #1967D2;\n",
              "      height: 32px;\n",
              "      padding: 0 0 0 0;\n",
              "      width: 32px;\n",
              "    }\n",
              "\n",
              "    .colab-df-convert:hover {\n",
              "      background-color: #E2EBFA;\n",
              "      box-shadow: 0px 1px 2px rgba(60, 64, 67, 0.3), 0px 1px 3px 1px rgba(60, 64, 67, 0.15);\n",
              "      fill: #174EA6;\n",
              "    }\n",
              "\n",
              "    [theme=dark] .colab-df-convert {\n",
              "      background-color: #3B4455;\n",
              "      fill: #D2E3FC;\n",
              "    }\n",
              "\n",
              "    [theme=dark] .colab-df-convert:hover {\n",
              "      background-color: #434B5C;\n",
              "      box-shadow: 0px 1px 3px 1px rgba(0, 0, 0, 0.15);\n",
              "      filter: drop-shadow(0px 1px 2px rgba(0, 0, 0, 0.3));\n",
              "      fill: #FFFFFF;\n",
              "    }\n",
              "  </style>\n",
              "\n",
              "      <script>\n",
              "        const buttonEl =\n",
              "          document.querySelector('#df-a7799ca2-12d0-41e6-a48d-a2ebc684c729 button.colab-df-convert');\n",
              "        buttonEl.style.display =\n",
              "          google.colab.kernel.accessAllowed ? 'block' : 'none';\n",
              "\n",
              "        async function convertToInteractive(key) {\n",
              "          const element = document.querySelector('#df-a7799ca2-12d0-41e6-a48d-a2ebc684c729');\n",
              "          const dataTable =\n",
              "            await google.colab.kernel.invokeFunction('convertToInteractive',\n",
              "                                                     [key], {});\n",
              "          if (!dataTable) return;\n",
              "\n",
              "          const docLinkHtml = 'Like what you see? Visit the ' +\n",
              "            '<a target=\"_blank\" href=https://colab.research.google.com/notebooks/data_table.ipynb>data table notebook</a>'\n",
              "            + ' to learn more about interactive tables.';\n",
              "          element.innerHTML = '';\n",
              "          dataTable['output_type'] = 'display_data';\n",
              "          await google.colab.output.renderOutput(dataTable, element);\n",
              "          const docLink = document.createElement('div');\n",
              "          docLink.innerHTML = docLinkHtml;\n",
              "          element.appendChild(docLink);\n",
              "        }\n",
              "      </script>\n",
              "    </div>\n",
              "  </div>\n",
              "  "
            ]
          },
          "metadata": {},
          "execution_count": 117
        }
      ],
      "source": [
        "# Change date to be date type\n",
        "df_downsampled['trans_date_trans_time'] = pd.to_datetime(df_downsampled['trans_date_trans_time'])\n",
        "# Create column week number\n",
        "df_downsampled['week_number'] = df_downsampled['trans_date_trans_time'].dt.dayofweek\n",
        "assert df_downsampled['week_number'].max() == 6\n",
        "# Create column month number\n",
        "df_downsampled['month_number'] = df_downsampled['trans_date_trans_time'].dt.month\n",
        "assert df_downsampled['month_number'].max() == 12\n",
        "# Create column year\n",
        "df_downsampled['year'] = df_downsampled['trans_date_trans_time'].dt.year\n",
        "df_downsampled.head()"
      ]
    },
    {
      "cell_type": "code",
      "execution_count": null,
      "metadata": {
        "colab": {
          "base_uri": "https://localhost:8080/"
        },
        "id": "VFcimqAtzKlT",
        "outputId": "21ac9881-636f-446e-d876-fcbcff3275b8"
      },
      "outputs": [
        {
          "output_type": "execute_result",
          "data": {
            "text/plain": [
              "(28953, 26)"
            ]
          },
          "metadata": {},
          "execution_count": 118
        }
      ],
      "source": [
        "df_downsampled.shape"
      ]
    },
    {
      "cell_type": "markdown",
      "metadata": {
        "id": "otZAjmDzQa8T"
      },
      "source": [
        "**Category (One-Hot Endcoding)**"
      ]
    },
    {
      "cell_type": "code",
      "execution_count": null,
      "metadata": {
        "id": "yeeduRTszRYT"
      },
      "outputs": [],
      "source": [
        "category_onehot = pd.get_dummies(df_downsampled.category, prefix='category')\n"
      ]
    },
    {
      "cell_type": "code",
      "execution_count": null,
      "metadata": {
        "id": "Kpja6dsXgtdz"
      },
      "outputs": [],
      "source": [
        "df_downsampled = df_downsampled.join(category_onehot)\n"
      ]
    },
    {
      "cell_type": "code",
      "execution_count": null,
      "metadata": {
        "id": "AC0kGiU4aOvA"
      },
      "outputs": [],
      "source": [
        "#pd.merge([df_downsampled, category_onehot],suffixes=('_left', '_right'))\n",
        "#pd.merge(df_downsampled, category_onehot, on='y')\n",
        "#df_downsampled.merge(category_onehot)\n",
        "#df_downsampled = df_downsampled.join(category_onehot)\n"
      ]
    },
    {
      "cell_type": "code",
      "execution_count": null,
      "metadata": {
        "colab": {
          "base_uri": "https://localhost:8080/"
        },
        "id": "UME0PQWyTpbs",
        "outputId": "b7b7c9b9-5101-4e86-a43d-3ec3e82b3b38"
      },
      "outputs": [
        {
          "output_type": "execute_result",
          "data": {
            "text/plain": [
              "(29161, 40)"
            ]
          },
          "metadata": {},
          "execution_count": 122
        }
      ],
      "source": [
        "df_downsampled.shape"
      ]
    },
    {
      "cell_type": "code",
      "execution_count": null,
      "metadata": {
        "colab": {
          "base_uri": "https://localhost:8080/",
          "height": 886
        },
        "id": "77g4cONRZUwY",
        "outputId": "23355615-0560-4620-d222-085cd8520586"
      },
      "outputs": [
        {
          "output_type": "execute_result",
          "data": {
            "text/plain": [
              "         Unnamed: 0 trans_date_trans_time               cc_num  \\\n",
              "37               37   2019-01-01 00:27:45      213141712584544   \n",
              "64               64   2019-01-01 00:45:13     4716561796955522   \n",
              "126             126   2019-01-01 01:33:52     3567879740649740   \n",
              "159             159   2019-01-01 01:56:51       30442439074871   \n",
              "209             209   2019-01-01 02:36:15     3573386445588324   \n",
              "...             ...                   ...                  ...   \n",
              "1851810      555135   2020-12-31 20:39:05      376445266762684   \n",
              "1852011      555336   2020-12-31 21:43:27       30501624614310   \n",
              "1852124      555449   2020-12-31 22:21:56      346273234529002   \n",
              "1852207      555532   2020-12-31 22:53:17         567868110212   \n",
              "1852208      555533   2020-12-31 22:53:19  4209696857872688515   \n",
              "\n",
              "                                        merchant       category     amt  \\\n",
              "37                         fraud_Halvorson Group       misc_pos  181.35   \n",
              "64                fraud_Huel, Hammes and Witting    grocery_pos   92.84   \n",
              "126                          fraud_Koss and Sons  gas_transport   58.79   \n",
              "159      fraud_Parisian, Schiller and Altenwerth       misc_net   14.03   \n",
              "209                          fraud_Keeling-Crist       misc_pos    7.16   \n",
              "...                                          ...            ...     ...   \n",
              "1851810                   fraud_Jakubowski Group    food_dining    1.16   \n",
              "1852011                         fraud_Renner Ltd           home   63.57   \n",
              "1852124                        fraud_Volkman PLC    food_dining   46.46   \n",
              "1852207                        fraud_Effertz LLC  entertainment   44.94   \n",
              "1852208                      fraud_Kessler Group         travel    9.26   \n",
              "\n",
              "             first      last gender                           street  ...  \\\n",
              "37        Margaret    Curtis      F                 742 Oneill Shore  ...   \n",
              "64          Lauren  Anderson      F         11014 Chad Lake Apt. 573  ...   \n",
              "126          Tanya  Williams      F                   566 Megan Well  ...   \n",
              "159          Linda   Sanchez      F       6574 William Hill Apt. 375  ...   \n",
              "209      Stephanie    Murphy      F                  526 Stacy Walks  ...   \n",
              "...            ...       ...    ...                              ...  ...   \n",
              "1851810     Rachel      Lowe      F               372 Jeffrey Course  ...   \n",
              "1852011     Amanda     Smith      F                 180 Graves Shore  ...   \n",
              "1852124      Donna    Moreno      F     32301 Albert River Suite 364  ...   \n",
              "1852207       Dawn    Tucker      F               789 Herring Manors  ...   \n",
              "1852208      Sarah      Bell      F  6963 Russell Causeway Suite 231  ...   \n",
              "\n",
              "        category_grocery_pos category_health_fitness  category_home  \\\n",
              "37                         0                       0              0   \n",
              "64                         1                       0              0   \n",
              "126                        0                       0              0   \n",
              "159                        0                       0              0   \n",
              "209                        0                       0              0   \n",
              "...                      ...                     ...            ...   \n",
              "1851810                    0                       0              0   \n",
              "1852011                    0                       0              1   \n",
              "1852124                    0                       0              0   \n",
              "1852207                    0                       0              0   \n",
              "1852208                    0                       0              0   \n",
              "\n",
              "         category_kids_pets  category_misc_net  category_misc_pos  \\\n",
              "37                        0                  0                  1   \n",
              "64                        0                  0                  0   \n",
              "126                       0                  0                  0   \n",
              "159                       0                  1                  0   \n",
              "209                       0                  0                  1   \n",
              "...                     ...                ...                ...   \n",
              "1851810                   0                  0                  0   \n",
              "1852011                   0                  0                  0   \n",
              "1852124                   0                  0                  0   \n",
              "1852207                   0                  0                  0   \n",
              "1852208                   0                  0                  0   \n",
              "\n",
              "        category_personal_care category_shopping_net category_shopping_pos  \\\n",
              "37                           0                     0                     0   \n",
              "64                           0                     0                     0   \n",
              "126                          0                     0                     0   \n",
              "159                          0                     0                     0   \n",
              "209                          0                     0                     0   \n",
              "...                        ...                   ...                   ...   \n",
              "1851810                      0                     0                     0   \n",
              "1852011                      0                     0                     0   \n",
              "1852124                      0                     0                     0   \n",
              "1852207                      0                     0                     0   \n",
              "1852208                      0                     0                     0   \n",
              "\n",
              "         category_travel  \n",
              "37                     0  \n",
              "64                     0  \n",
              "126                    0  \n",
              "159                    0  \n",
              "209                    0  \n",
              "...                  ...  \n",
              "1851810                0  \n",
              "1852011                0  \n",
              "1852124                0  \n",
              "1852207                0  \n",
              "1852208                1  \n",
              "\n",
              "[29161 rows x 40 columns]"
            ],
            "text/html": [
              "\n",
              "  <div id=\"df-71f35667-c97f-47ae-af5d-79995870e325\">\n",
              "    <div class=\"colab-df-container\">\n",
              "      <div>\n",
              "<style scoped>\n",
              "    .dataframe tbody tr th:only-of-type {\n",
              "        vertical-align: middle;\n",
              "    }\n",
              "\n",
              "    .dataframe tbody tr th {\n",
              "        vertical-align: top;\n",
              "    }\n",
              "\n",
              "    .dataframe thead th {\n",
              "        text-align: right;\n",
              "    }\n",
              "</style>\n",
              "<table border=\"1\" class=\"dataframe\">\n",
              "  <thead>\n",
              "    <tr style=\"text-align: right;\">\n",
              "      <th></th>\n",
              "      <th>Unnamed: 0</th>\n",
              "      <th>trans_date_trans_time</th>\n",
              "      <th>cc_num</th>\n",
              "      <th>merchant</th>\n",
              "      <th>category</th>\n",
              "      <th>amt</th>\n",
              "      <th>first</th>\n",
              "      <th>last</th>\n",
              "      <th>gender</th>\n",
              "      <th>street</th>\n",
              "      <th>...</th>\n",
              "      <th>category_grocery_pos</th>\n",
              "      <th>category_health_fitness</th>\n",
              "      <th>category_home</th>\n",
              "      <th>category_kids_pets</th>\n",
              "      <th>category_misc_net</th>\n",
              "      <th>category_misc_pos</th>\n",
              "      <th>category_personal_care</th>\n",
              "      <th>category_shopping_net</th>\n",
              "      <th>category_shopping_pos</th>\n",
              "      <th>category_travel</th>\n",
              "    </tr>\n",
              "  </thead>\n",
              "  <tbody>\n",
              "    <tr>\n",
              "      <th>37</th>\n",
              "      <td>37</td>\n",
              "      <td>2019-01-01 00:27:45</td>\n",
              "      <td>213141712584544</td>\n",
              "      <td>fraud_Halvorson Group</td>\n",
              "      <td>misc_pos</td>\n",
              "      <td>181.35</td>\n",
              "      <td>Margaret</td>\n",
              "      <td>Curtis</td>\n",
              "      <td>F</td>\n",
              "      <td>742 Oneill Shore</td>\n",
              "      <td>...</td>\n",
              "      <td>0</td>\n",
              "      <td>0</td>\n",
              "      <td>0</td>\n",
              "      <td>0</td>\n",
              "      <td>0</td>\n",
              "      <td>1</td>\n",
              "      <td>0</td>\n",
              "      <td>0</td>\n",
              "      <td>0</td>\n",
              "      <td>0</td>\n",
              "    </tr>\n",
              "    <tr>\n",
              "      <th>64</th>\n",
              "      <td>64</td>\n",
              "      <td>2019-01-01 00:45:13</td>\n",
              "      <td>4716561796955522</td>\n",
              "      <td>fraud_Huel, Hammes and Witting</td>\n",
              "      <td>grocery_pos</td>\n",
              "      <td>92.84</td>\n",
              "      <td>Lauren</td>\n",
              "      <td>Anderson</td>\n",
              "      <td>F</td>\n",
              "      <td>11014 Chad Lake Apt. 573</td>\n",
              "      <td>...</td>\n",
              "      <td>1</td>\n",
              "      <td>0</td>\n",
              "      <td>0</td>\n",
              "      <td>0</td>\n",
              "      <td>0</td>\n",
              "      <td>0</td>\n",
              "      <td>0</td>\n",
              "      <td>0</td>\n",
              "      <td>0</td>\n",
              "      <td>0</td>\n",
              "    </tr>\n",
              "    <tr>\n",
              "      <th>126</th>\n",
              "      <td>126</td>\n",
              "      <td>2019-01-01 01:33:52</td>\n",
              "      <td>3567879740649740</td>\n",
              "      <td>fraud_Koss and Sons</td>\n",
              "      <td>gas_transport</td>\n",
              "      <td>58.79</td>\n",
              "      <td>Tanya</td>\n",
              "      <td>Williams</td>\n",
              "      <td>F</td>\n",
              "      <td>566 Megan Well</td>\n",
              "      <td>...</td>\n",
              "      <td>0</td>\n",
              "      <td>0</td>\n",
              "      <td>0</td>\n",
              "      <td>0</td>\n",
              "      <td>0</td>\n",
              "      <td>0</td>\n",
              "      <td>0</td>\n",
              "      <td>0</td>\n",
              "      <td>0</td>\n",
              "      <td>0</td>\n",
              "    </tr>\n",
              "    <tr>\n",
              "      <th>159</th>\n",
              "      <td>159</td>\n",
              "      <td>2019-01-01 01:56:51</td>\n",
              "      <td>30442439074871</td>\n",
              "      <td>fraud_Parisian, Schiller and Altenwerth</td>\n",
              "      <td>misc_net</td>\n",
              "      <td>14.03</td>\n",
              "      <td>Linda</td>\n",
              "      <td>Sanchez</td>\n",
              "      <td>F</td>\n",
              "      <td>6574 William Hill Apt. 375</td>\n",
              "      <td>...</td>\n",
              "      <td>0</td>\n",
              "      <td>0</td>\n",
              "      <td>0</td>\n",
              "      <td>0</td>\n",
              "      <td>1</td>\n",
              "      <td>0</td>\n",
              "      <td>0</td>\n",
              "      <td>0</td>\n",
              "      <td>0</td>\n",
              "      <td>0</td>\n",
              "    </tr>\n",
              "    <tr>\n",
              "      <th>209</th>\n",
              "      <td>209</td>\n",
              "      <td>2019-01-01 02:36:15</td>\n",
              "      <td>3573386445588324</td>\n",
              "      <td>fraud_Keeling-Crist</td>\n",
              "      <td>misc_pos</td>\n",
              "      <td>7.16</td>\n",
              "      <td>Stephanie</td>\n",
              "      <td>Murphy</td>\n",
              "      <td>F</td>\n",
              "      <td>526 Stacy Walks</td>\n",
              "      <td>...</td>\n",
              "      <td>0</td>\n",
              "      <td>0</td>\n",
              "      <td>0</td>\n",
              "      <td>0</td>\n",
              "      <td>0</td>\n",
              "      <td>1</td>\n",
              "      <td>0</td>\n",
              "      <td>0</td>\n",
              "      <td>0</td>\n",
              "      <td>0</td>\n",
              "    </tr>\n",
              "    <tr>\n",
              "      <th>...</th>\n",
              "      <td>...</td>\n",
              "      <td>...</td>\n",
              "      <td>...</td>\n",
              "      <td>...</td>\n",
              "      <td>...</td>\n",
              "      <td>...</td>\n",
              "      <td>...</td>\n",
              "      <td>...</td>\n",
              "      <td>...</td>\n",
              "      <td>...</td>\n",
              "      <td>...</td>\n",
              "      <td>...</td>\n",
              "      <td>...</td>\n",
              "      <td>...</td>\n",
              "      <td>...</td>\n",
              "      <td>...</td>\n",
              "      <td>...</td>\n",
              "      <td>...</td>\n",
              "      <td>...</td>\n",
              "      <td>...</td>\n",
              "      <td>...</td>\n",
              "    </tr>\n",
              "    <tr>\n",
              "      <th>1851810</th>\n",
              "      <td>555135</td>\n",
              "      <td>2020-12-31 20:39:05</td>\n",
              "      <td>376445266762684</td>\n",
              "      <td>fraud_Jakubowski Group</td>\n",
              "      <td>food_dining</td>\n",
              "      <td>1.16</td>\n",
              "      <td>Rachel</td>\n",
              "      <td>Lowe</td>\n",
              "      <td>F</td>\n",
              "      <td>372 Jeffrey Course</td>\n",
              "      <td>...</td>\n",
              "      <td>0</td>\n",
              "      <td>0</td>\n",
              "      <td>0</td>\n",
              "      <td>0</td>\n",
              "      <td>0</td>\n",
              "      <td>0</td>\n",
              "      <td>0</td>\n",
              "      <td>0</td>\n",
              "      <td>0</td>\n",
              "      <td>0</td>\n",
              "    </tr>\n",
              "    <tr>\n",
              "      <th>1852011</th>\n",
              "      <td>555336</td>\n",
              "      <td>2020-12-31 21:43:27</td>\n",
              "      <td>30501624614310</td>\n",
              "      <td>fraud_Renner Ltd</td>\n",
              "      <td>home</td>\n",
              "      <td>63.57</td>\n",
              "      <td>Amanda</td>\n",
              "      <td>Smith</td>\n",
              "      <td>F</td>\n",
              "      <td>180 Graves Shore</td>\n",
              "      <td>...</td>\n",
              "      <td>0</td>\n",
              "      <td>0</td>\n",
              "      <td>1</td>\n",
              "      <td>0</td>\n",
              "      <td>0</td>\n",
              "      <td>0</td>\n",
              "      <td>0</td>\n",
              "      <td>0</td>\n",
              "      <td>0</td>\n",
              "      <td>0</td>\n",
              "    </tr>\n",
              "    <tr>\n",
              "      <th>1852124</th>\n",
              "      <td>555449</td>\n",
              "      <td>2020-12-31 22:21:56</td>\n",
              "      <td>346273234529002</td>\n",
              "      <td>fraud_Volkman PLC</td>\n",
              "      <td>food_dining</td>\n",
              "      <td>46.46</td>\n",
              "      <td>Donna</td>\n",
              "      <td>Moreno</td>\n",
              "      <td>F</td>\n",
              "      <td>32301 Albert River Suite 364</td>\n",
              "      <td>...</td>\n",
              "      <td>0</td>\n",
              "      <td>0</td>\n",
              "      <td>0</td>\n",
              "      <td>0</td>\n",
              "      <td>0</td>\n",
              "      <td>0</td>\n",
              "      <td>0</td>\n",
              "      <td>0</td>\n",
              "      <td>0</td>\n",
              "      <td>0</td>\n",
              "    </tr>\n",
              "    <tr>\n",
              "      <th>1852207</th>\n",
              "      <td>555532</td>\n",
              "      <td>2020-12-31 22:53:17</td>\n",
              "      <td>567868110212</td>\n",
              "      <td>fraud_Effertz LLC</td>\n",
              "      <td>entertainment</td>\n",
              "      <td>44.94</td>\n",
              "      <td>Dawn</td>\n",
              "      <td>Tucker</td>\n",
              "      <td>F</td>\n",
              "      <td>789 Herring Manors</td>\n",
              "      <td>...</td>\n",
              "      <td>0</td>\n",
              "      <td>0</td>\n",
              "      <td>0</td>\n",
              "      <td>0</td>\n",
              "      <td>0</td>\n",
              "      <td>0</td>\n",
              "      <td>0</td>\n",
              "      <td>0</td>\n",
              "      <td>0</td>\n",
              "      <td>0</td>\n",
              "    </tr>\n",
              "    <tr>\n",
              "      <th>1852208</th>\n",
              "      <td>555533</td>\n",
              "      <td>2020-12-31 22:53:19</td>\n",
              "      <td>4209696857872688515</td>\n",
              "      <td>fraud_Kessler Group</td>\n",
              "      <td>travel</td>\n",
              "      <td>9.26</td>\n",
              "      <td>Sarah</td>\n",
              "      <td>Bell</td>\n",
              "      <td>F</td>\n",
              "      <td>6963 Russell Causeway Suite 231</td>\n",
              "      <td>...</td>\n",
              "      <td>0</td>\n",
              "      <td>0</td>\n",
              "      <td>0</td>\n",
              "      <td>0</td>\n",
              "      <td>0</td>\n",
              "      <td>0</td>\n",
              "      <td>0</td>\n",
              "      <td>0</td>\n",
              "      <td>0</td>\n",
              "      <td>1</td>\n",
              "    </tr>\n",
              "  </tbody>\n",
              "</table>\n",
              "<p>29161 rows × 40 columns</p>\n",
              "</div>\n",
              "      <button class=\"colab-df-convert\" onclick=\"convertToInteractive('df-71f35667-c97f-47ae-af5d-79995870e325')\"\n",
              "              title=\"Convert this dataframe to an interactive table.\"\n",
              "              style=\"display:none;\">\n",
              "        \n",
              "  <svg xmlns=\"http://www.w3.org/2000/svg\" height=\"24px\"viewBox=\"0 0 24 24\"\n",
              "       width=\"24px\">\n",
              "    <path d=\"M0 0h24v24H0V0z\" fill=\"none\"/>\n",
              "    <path d=\"M18.56 5.44l.94 2.06.94-2.06 2.06-.94-2.06-.94-.94-2.06-.94 2.06-2.06.94zm-11 1L8.5 8.5l.94-2.06 2.06-.94-2.06-.94L8.5 2.5l-.94 2.06-2.06.94zm10 10l.94 2.06.94-2.06 2.06-.94-2.06-.94-.94-2.06-.94 2.06-2.06.94z\"/><path d=\"M17.41 7.96l-1.37-1.37c-.4-.4-.92-.59-1.43-.59-.52 0-1.04.2-1.43.59L10.3 9.45l-7.72 7.72c-.78.78-.78 2.05 0 2.83L4 21.41c.39.39.9.59 1.41.59.51 0 1.02-.2 1.41-.59l7.78-7.78 2.81-2.81c.8-.78.8-2.07 0-2.86zM5.41 20L4 18.59l7.72-7.72 1.47 1.35L5.41 20z\"/>\n",
              "  </svg>\n",
              "      </button>\n",
              "      \n",
              "  <style>\n",
              "    .colab-df-container {\n",
              "      display:flex;\n",
              "      flex-wrap:wrap;\n",
              "      gap: 12px;\n",
              "    }\n",
              "\n",
              "    .colab-df-convert {\n",
              "      background-color: #E8F0FE;\n",
              "      border: none;\n",
              "      border-radius: 50%;\n",
              "      cursor: pointer;\n",
              "      display: none;\n",
              "      fill: #1967D2;\n",
              "      height: 32px;\n",
              "      padding: 0 0 0 0;\n",
              "      width: 32px;\n",
              "    }\n",
              "\n",
              "    .colab-df-convert:hover {\n",
              "      background-color: #E2EBFA;\n",
              "      box-shadow: 0px 1px 2px rgba(60, 64, 67, 0.3), 0px 1px 3px 1px rgba(60, 64, 67, 0.15);\n",
              "      fill: #174EA6;\n",
              "    }\n",
              "\n",
              "    [theme=dark] .colab-df-convert {\n",
              "      background-color: #3B4455;\n",
              "      fill: #D2E3FC;\n",
              "    }\n",
              "\n",
              "    [theme=dark] .colab-df-convert:hover {\n",
              "      background-color: #434B5C;\n",
              "      box-shadow: 0px 1px 3px 1px rgba(0, 0, 0, 0.15);\n",
              "      filter: drop-shadow(0px 1px 2px rgba(0, 0, 0, 0.3));\n",
              "      fill: #FFFFFF;\n",
              "    }\n",
              "  </style>\n",
              "\n",
              "      <script>\n",
              "        const buttonEl =\n",
              "          document.querySelector('#df-71f35667-c97f-47ae-af5d-79995870e325 button.colab-df-convert');\n",
              "        buttonEl.style.display =\n",
              "          google.colab.kernel.accessAllowed ? 'block' : 'none';\n",
              "\n",
              "        async function convertToInteractive(key) {\n",
              "          const element = document.querySelector('#df-71f35667-c97f-47ae-af5d-79995870e325');\n",
              "          const dataTable =\n",
              "            await google.colab.kernel.invokeFunction('convertToInteractive',\n",
              "                                                     [key], {});\n",
              "          if (!dataTable) return;\n",
              "\n",
              "          const docLinkHtml = 'Like what you see? Visit the ' +\n",
              "            '<a target=\"_blank\" href=https://colab.research.google.com/notebooks/data_table.ipynb>data table notebook</a>'\n",
              "            + ' to learn more about interactive tables.';\n",
              "          element.innerHTML = '';\n",
              "          dataTable['output_type'] = 'display_data';\n",
              "          await google.colab.output.renderOutput(dataTable, element);\n",
              "          const docLink = document.createElement('div');\n",
              "          docLink.innerHTML = docLinkHtml;\n",
              "          element.appendChild(docLink);\n",
              "        }\n",
              "      </script>\n",
              "    </div>\n",
              "  </div>\n",
              "  "
            ]
          },
          "metadata": {},
          "execution_count": 123
        }
      ],
      "source": [
        "df_downsampled"
      ]
    },
    {
      "cell_type": "markdown",
      "metadata": {
        "id": "jowPh2i_UE0Z"
      },
      "source": [
        "**Changing gender from nominal to numerical**"
      ]
    },
    {
      "cell_type": "code",
      "execution_count": null,
      "metadata": {
        "colab": {
          "base_uri": "https://localhost:8080/"
        },
        "id": "fNzM1ZTWzrPf",
        "outputId": "bbfce17c-96ec-47c0-8580-ecbc0756b680"
      },
      "outputs": [
        {
          "output_type": "stream",
          "name": "stdout",
          "text": [
            "Gender of train dataset 0    15823\n",
            "1    13338\n",
            "Name: gender, dtype: int64\n"
          ]
        }
      ],
      "source": [
        "\n",
        "df_downsampled['gender'] = df_downsampled['gender'].replace(['F','M'],[0,1])\n",
        "\n",
        "print('Gender of train dataset', df_downsampled['gender'].value_counts())\n"
      ]
    },
    {
      "cell_type": "markdown",
      "metadata": {
        "id": "S5Eh1Iq7UPxK"
      },
      "source": [
        "**Converting Merchant to be numerical data**"
      ]
    },
    {
      "cell_type": "code",
      "execution_count": null,
      "metadata": {
        "colab": {
          "base_uri": "https://localhost:8080/"
        },
        "id": "dYd7LMkyz7Za",
        "outputId": "b92a09bd-6a0e-430e-e8c4-a2b26063de66"
      },
      "outputs": [
        {
          "output_type": "stream",
          "name": "stdout",
          "text": [
            "Merchant Number of train dataset 37         225\n",
            "64         270\n",
            "126        332\n",
            "159        475\n",
            "209        297\n",
            "          ... \n",
            "1851810    278\n",
            "1852011    512\n",
            "1852124    648\n",
            "1852207    151\n",
            "1852208    306\n",
            "Name: merchant_number, Length: 29161, dtype: int64\n"
          ]
        }
      ],
      "source": [
        "from sklearn.preprocessing import LabelEncoder\n",
        "label_encoder = LabelEncoder()\n",
        "x_lable = df_downsampled['merchant']\n",
        "df_downsampled['merchant_number'] = label_encoder.fit_transform(x_lable)\n",
        "\n",
        "\n",
        "print('Merchant Number of train dataset',df_downsampled['merchant_number'])"
      ]
    },
    {
      "cell_type": "markdown",
      "metadata": {
        "id": "-aASkA8BUa2c"
      },
      "source": [
        "**Finding Age from date of birth data**"
      ]
    },
    {
      "cell_type": "code",
      "execution_count": null,
      "metadata": {
        "colab": {
          "base_uri": "https://localhost:8080/"
        },
        "id": "URBAPb7C0fhu",
        "outputId": "1625ce59-da5c-4f85-b896-81953bb5dffb"
      },
      "outputs": [
        {
          "output_type": "stream",
          "name": "stdout",
          "text": [
            "Age of train dataset 37     37\n",
            "64     49\n",
            "126    63\n",
            "Name: age, dtype: int64\n"
          ]
        }
      ],
      "source": [
        "from datetime import date\n",
        "def calculate_age(row):\n",
        "    today = date.today()\n",
        "    return today.year - row['dob'].year - ((today.month, today.day) < (row['dob'].month, row['dob'].day))\n",
        "\n",
        "\n",
        "df_downsampled['dob'] = pd.to_datetime(df_downsampled['dob'])\n",
        "df_downsampled['age'] = df_downsampled['dob']\n",
        "df_downsampled['age'] = df_downsampled.apply (lambda row: calculate_age(row), axis=1)\n",
        "\n",
        "\n",
        "print('Age of train dataset', df_downsampled['age'].head(3))\n"
      ]
    },
    {
      "cell_type": "markdown",
      "metadata": {
        "id": "TgVjyH36UmY2"
      },
      "source": [
        "**Converting Marchant to be numerical data**"
      ]
    },
    {
      "cell_type": "code",
      "execution_count": null,
      "metadata": {
        "colab": {
          "base_uri": "https://localhost:8080/"
        },
        "id": "UxIFZEyI1Jk_",
        "outputId": "7e9e9a21-2528-4230-bed4-01131622814e"
      },
      "outputs": [
        {
          "output_type": "stream",
          "name": "stdout",
          "text": [
            "37         197\n",
            "64         492\n",
            "126        356\n",
            "159        481\n",
            "209        447\n",
            "          ... \n",
            "1851810    248\n",
            "1852011    278\n",
            "1852124    437\n",
            "1852207    110\n",
            "1852208    398\n",
            "Name: job_number, Length: 29161, dtype: int64\n"
          ]
        }
      ],
      "source": [
        "from sklearn.preprocessing import LabelEncoder\n",
        "label_encoder = LabelEncoder()\n",
        "\n",
        "x_lable = df_downsampled['job']\n",
        "df_downsampled['job_number'] = label_encoder.fit_transform(x_lable)\n",
        "print(df_downsampled['job_number'])\n"
      ]
    },
    {
      "cell_type": "markdown",
      "metadata": {
        "id": "OMQvU1p8WBqF"
      },
      "source": [
        "**Selecting required data**"
      ]
    },
    {
      "cell_type": "code",
      "execution_count": null,
      "metadata": {
        "colab": {
          "base_uri": "https://localhost:8080/"
        },
        "id": "yTFTOTd91VpJ",
        "outputId": "9947fb6d-dc6c-41ef-f166-0676e492543f"
      },
      "outputs": [
        {
          "output_type": "execute_result",
          "data": {
            "text/plain": [
              "Index(['Unnamed: 0', 'trans_date_trans_time', 'cc_num', 'merchant', 'category',\n",
              "       'amt', 'first', 'last', 'gender', 'street', 'city', 'state', 'zip',\n",
              "       'lat', 'long', 'city_pop', 'job', 'dob', 'trans_num', 'unix_time',\n",
              "       'merch_lat', 'merch_long', 'is_fraud', 'week_number', 'month_number',\n",
              "       'year', 'category_entertainment', 'category_food_dining',\n",
              "       'category_gas_transport', 'category_grocery_net',\n",
              "       'category_grocery_pos', 'category_health_fitness', 'category_home',\n",
              "       'category_kids_pets', 'category_misc_net', 'category_misc_pos',\n",
              "       'category_personal_care', 'category_shopping_net',\n",
              "       'category_shopping_pos', 'category_travel', 'merchant_number', 'age',\n",
              "       'job_number'],\n",
              "      dtype='object')"
            ]
          },
          "metadata": {},
          "execution_count": 128
        }
      ],
      "source": [
        "df_downsampled.columns"
      ]
    },
    {
      "cell_type": "code",
      "execution_count": null,
      "metadata": {
        "colab": {
          "base_uri": "https://localhost:8080/"
        },
        "id": "ypQbvf8W1W6z",
        "outputId": "90655f2d-6f5f-4ed4-cbb4-39a181acf0ae"
      },
      "outputs": [
        {
          "output_type": "execute_result",
          "data": {
            "text/plain": [
              "(29161, 31)"
            ]
          },
          "metadata": {},
          "execution_count": 129
        }
      ],
      "source": [
        "final_data1 = df_downsampled[['cc_num',\n",
        "       'amt', 'gender', 'zip',\n",
        "       'lat', 'long', 'city_pop', 'unix_time',\n",
        "       'merch_lat', 'merch_long', 'age', 'job_number',\n",
        "       'week_number', 'month_number', 'year', 'category_entertainment',\n",
        "       'category_food_dining', 'category_gas_transport',\n",
        "       'category_grocery_net', 'category_grocery_pos',\n",
        "       'category_health_fitness', 'category_home', 'category_kids_pets',\n",
        "       'category_misc_net', 'category_misc_pos', 'category_personal_care',\n",
        "       'category_shopping_net', 'category_shopping_pos', 'category_travel',\n",
        "       'merchant_number','is_fraud']]\n",
        "final_data1.shape"
      ]
    },
    {
      "cell_type": "markdown",
      "metadata": {
        "id": "FwJ1yE3lWKip"
      },
      "source": [
        "**Scaling data**"
      ]
    },
    {
      "cell_type": "code",
      "execution_count": null,
      "metadata": {
        "id": "1hHt0gkwIhvQ"
      },
      "outputs": [],
      "source": [
        "from sklearn import preprocessing\n",
        "scaler = preprocessing.MinMaxScaler()"
      ]
    },
    {
      "cell_type": "code",
      "execution_count": null,
      "metadata": {
        "colab": {
          "base_uri": "https://localhost:8080/",
          "height": 661
        },
        "id": "fLwGqn8GIo-c",
        "outputId": "e82e1d08-e20d-41e9-d129-917840354f64"
      },
      "outputs": [
        {
          "output_type": "execute_result",
          "data": {
            "text/plain": [
              "             cc_num       amt  gender       zip       lat      long  city_pop  \\\n",
              "0      4.268159e-05  0.012467     0.0  0.383281  0.259843  0.773118  0.006764   \n",
              "1      9.447464e-04  0.006348     0.0  0.589790  0.605376  0.540581  0.000248   \n",
              "2      7.146578e-04  0.003995     0.0  0.125253  0.514947  0.917426  0.000429   \n",
              "3      6.085720e-06  0.000901     0.0  0.174086  0.461732  0.921842  0.002231   \n",
              "4      7.157608e-04  0.000426     0.0  0.569296  0.550578  0.686835  0.000014   \n",
              "...             ...       ...     ...       ...       ...       ...       ...   \n",
              "29156  7.539238e-05  0.000011     0.0  0.688275  0.452762  0.660407  0.000608   \n",
              "29157  6.097575e-06  0.004325     0.0  0.290704  0.271106  0.863949  0.000096   \n",
              "29158  6.934872e-05  0.003142     0.0  0.240341  0.379605  0.871960  0.001566   \n",
              "29159  1.016460e-07  0.003037     0.0  0.767757  0.208856  0.719069  1.000000   \n",
              "29160  8.432301e-01  0.000571     0.0  0.625132  0.381439  0.788449  0.000661   \n",
              "\n",
              "       unix_time  merch_lat  merch_long  ...  category_home  \\\n",
              "0       0.000000   0.264290    0.761335  ...            0.0   \n",
              "1       0.000017   0.618807    0.532344  ...            0.0   \n",
              "2       0.000063   0.514052    0.908925  ...            0.0   \n",
              "3       0.000085   0.448957    0.906355  ...            0.0   \n",
              "4       0.000122   0.567180    0.690029  ...            0.0   \n",
              "...          ...        ...         ...  ...            ...   \n",
              "29156   0.999872   0.441696    0.665572  ...            0.0   \n",
              "29157   0.999934   0.283129    0.857635  ...            1.0   \n",
              "29158   0.999970   0.372838    0.872633  ...            0.0   \n",
              "29159   1.000000   0.199060    0.719377  ...            0.0   \n",
              "29160   1.000000   0.386482    0.778241  ...            0.0   \n",
              "\n",
              "       category_kids_pets  category_misc_net  category_misc_pos  \\\n",
              "0                     0.0                0.0                1.0   \n",
              "1                     0.0                0.0                0.0   \n",
              "2                     0.0                0.0                0.0   \n",
              "3                     0.0                1.0                0.0   \n",
              "4                     0.0                0.0                1.0   \n",
              "...                   ...                ...                ...   \n",
              "29156                 0.0                0.0                0.0   \n",
              "29157                 0.0                0.0                0.0   \n",
              "29158                 0.0                0.0                0.0   \n",
              "29159                 0.0                0.0                0.0   \n",
              "29160                 0.0                0.0                0.0   \n",
              "\n",
              "       category_personal_care  category_shopping_net  category_shopping_pos  \\\n",
              "0                         0.0                    0.0                    0.0   \n",
              "1                         0.0                    0.0                    0.0   \n",
              "2                         0.0                    0.0                    0.0   \n",
              "3                         0.0                    0.0                    0.0   \n",
              "4                         0.0                    0.0                    0.0   \n",
              "...                       ...                    ...                    ...   \n",
              "29156                     0.0                    0.0                    0.0   \n",
              "29157                     0.0                    0.0                    0.0   \n",
              "29158                     0.0                    0.0                    0.0   \n",
              "29159                     0.0                    0.0                    0.0   \n",
              "29160                     0.0                    0.0                    0.0   \n",
              "\n",
              "       category_travel  merchant_number  is_fraud  \n",
              "0                  0.0         0.325145       0.0  \n",
              "1                  0.0         0.390173       0.0  \n",
              "2                  0.0         0.479769       0.0  \n",
              "3                  0.0         0.686416       0.0  \n",
              "4                  0.0         0.429191       0.0  \n",
              "...                ...              ...       ...  \n",
              "29156              0.0         0.401734       0.0  \n",
              "29157              0.0         0.739884       0.0  \n",
              "29158              0.0         0.936416       0.0  \n",
              "29159              0.0         0.218208       0.0  \n",
              "29160              1.0         0.442197       0.0  \n",
              "\n",
              "[29161 rows x 31 columns]"
            ],
            "text/html": [
              "\n",
              "  <div id=\"df-04285f7a-8b46-4e9f-9d1f-da2a5547eda9\">\n",
              "    <div class=\"colab-df-container\">\n",
              "      <div>\n",
              "<style scoped>\n",
              "    .dataframe tbody tr th:only-of-type {\n",
              "        vertical-align: middle;\n",
              "    }\n",
              "\n",
              "    .dataframe tbody tr th {\n",
              "        vertical-align: top;\n",
              "    }\n",
              "\n",
              "    .dataframe thead th {\n",
              "        text-align: right;\n",
              "    }\n",
              "</style>\n",
              "<table border=\"1\" class=\"dataframe\">\n",
              "  <thead>\n",
              "    <tr style=\"text-align: right;\">\n",
              "      <th></th>\n",
              "      <th>cc_num</th>\n",
              "      <th>amt</th>\n",
              "      <th>gender</th>\n",
              "      <th>zip</th>\n",
              "      <th>lat</th>\n",
              "      <th>long</th>\n",
              "      <th>city_pop</th>\n",
              "      <th>unix_time</th>\n",
              "      <th>merch_lat</th>\n",
              "      <th>merch_long</th>\n",
              "      <th>...</th>\n",
              "      <th>category_home</th>\n",
              "      <th>category_kids_pets</th>\n",
              "      <th>category_misc_net</th>\n",
              "      <th>category_misc_pos</th>\n",
              "      <th>category_personal_care</th>\n",
              "      <th>category_shopping_net</th>\n",
              "      <th>category_shopping_pos</th>\n",
              "      <th>category_travel</th>\n",
              "      <th>merchant_number</th>\n",
              "      <th>is_fraud</th>\n",
              "    </tr>\n",
              "  </thead>\n",
              "  <tbody>\n",
              "    <tr>\n",
              "      <th>0</th>\n",
              "      <td>4.268159e-05</td>\n",
              "      <td>0.012467</td>\n",
              "      <td>0.0</td>\n",
              "      <td>0.383281</td>\n",
              "      <td>0.259843</td>\n",
              "      <td>0.773118</td>\n",
              "      <td>0.006764</td>\n",
              "      <td>0.000000</td>\n",
              "      <td>0.264290</td>\n",
              "      <td>0.761335</td>\n",
              "      <td>...</td>\n",
              "      <td>0.0</td>\n",
              "      <td>0.0</td>\n",
              "      <td>0.0</td>\n",
              "      <td>1.0</td>\n",
              "      <td>0.0</td>\n",
              "      <td>0.0</td>\n",
              "      <td>0.0</td>\n",
              "      <td>0.0</td>\n",
              "      <td>0.325145</td>\n",
              "      <td>0.0</td>\n",
              "    </tr>\n",
              "    <tr>\n",
              "      <th>1</th>\n",
              "      <td>9.447464e-04</td>\n",
              "      <td>0.006348</td>\n",
              "      <td>0.0</td>\n",
              "      <td>0.589790</td>\n",
              "      <td>0.605376</td>\n",
              "      <td>0.540581</td>\n",
              "      <td>0.000248</td>\n",
              "      <td>0.000017</td>\n",
              "      <td>0.618807</td>\n",
              "      <td>0.532344</td>\n",
              "      <td>...</td>\n",
              "      <td>0.0</td>\n",
              "      <td>0.0</td>\n",
              "      <td>0.0</td>\n",
              "      <td>0.0</td>\n",
              "      <td>0.0</td>\n",
              "      <td>0.0</td>\n",
              "      <td>0.0</td>\n",
              "      <td>0.0</td>\n",
              "      <td>0.390173</td>\n",
              "      <td>0.0</td>\n",
              "    </tr>\n",
              "    <tr>\n",
              "      <th>2</th>\n",
              "      <td>7.146578e-04</td>\n",
              "      <td>0.003995</td>\n",
              "      <td>0.0</td>\n",
              "      <td>0.125253</td>\n",
              "      <td>0.514947</td>\n",
              "      <td>0.917426</td>\n",
              "      <td>0.000429</td>\n",
              "      <td>0.000063</td>\n",
              "      <td>0.514052</td>\n",
              "      <td>0.908925</td>\n",
              "      <td>...</td>\n",
              "      <td>0.0</td>\n",
              "      <td>0.0</td>\n",
              "      <td>0.0</td>\n",
              "      <td>0.0</td>\n",
              "      <td>0.0</td>\n",
              "      <td>0.0</td>\n",
              "      <td>0.0</td>\n",
              "      <td>0.0</td>\n",
              "      <td>0.479769</td>\n",
              "      <td>0.0</td>\n",
              "    </tr>\n",
              "    <tr>\n",
              "      <th>3</th>\n",
              "      <td>6.085720e-06</td>\n",
              "      <td>0.000901</td>\n",
              "      <td>0.0</td>\n",
              "      <td>0.174086</td>\n",
              "      <td>0.461732</td>\n",
              "      <td>0.921842</td>\n",
              "      <td>0.002231</td>\n",
              "      <td>0.000085</td>\n",
              "      <td>0.448957</td>\n",
              "      <td>0.906355</td>\n",
              "      <td>...</td>\n",
              "      <td>0.0</td>\n",
              "      <td>0.0</td>\n",
              "      <td>1.0</td>\n",
              "      <td>0.0</td>\n",
              "      <td>0.0</td>\n",
              "      <td>0.0</td>\n",
              "      <td>0.0</td>\n",
              "      <td>0.0</td>\n",
              "      <td>0.686416</td>\n",
              "      <td>0.0</td>\n",
              "    </tr>\n",
              "    <tr>\n",
              "      <th>4</th>\n",
              "      <td>7.157608e-04</td>\n",
              "      <td>0.000426</td>\n",
              "      <td>0.0</td>\n",
              "      <td>0.569296</td>\n",
              "      <td>0.550578</td>\n",
              "      <td>0.686835</td>\n",
              "      <td>0.000014</td>\n",
              "      <td>0.000122</td>\n",
              "      <td>0.567180</td>\n",
              "      <td>0.690029</td>\n",
              "      <td>...</td>\n",
              "      <td>0.0</td>\n",
              "      <td>0.0</td>\n",
              "      <td>0.0</td>\n",
              "      <td>1.0</td>\n",
              "      <td>0.0</td>\n",
              "      <td>0.0</td>\n",
              "      <td>0.0</td>\n",
              "      <td>0.0</td>\n",
              "      <td>0.429191</td>\n",
              "      <td>0.0</td>\n",
              "    </tr>\n",
              "    <tr>\n",
              "      <th>...</th>\n",
              "      <td>...</td>\n",
              "      <td>...</td>\n",
              "      <td>...</td>\n",
              "      <td>...</td>\n",
              "      <td>...</td>\n",
              "      <td>...</td>\n",
              "      <td>...</td>\n",
              "      <td>...</td>\n",
              "      <td>...</td>\n",
              "      <td>...</td>\n",
              "      <td>...</td>\n",
              "      <td>...</td>\n",
              "      <td>...</td>\n",
              "      <td>...</td>\n",
              "      <td>...</td>\n",
              "      <td>...</td>\n",
              "      <td>...</td>\n",
              "      <td>...</td>\n",
              "      <td>...</td>\n",
              "      <td>...</td>\n",
              "      <td>...</td>\n",
              "    </tr>\n",
              "    <tr>\n",
              "      <th>29156</th>\n",
              "      <td>7.539238e-05</td>\n",
              "      <td>0.000011</td>\n",
              "      <td>0.0</td>\n",
              "      <td>0.688275</td>\n",
              "      <td>0.452762</td>\n",
              "      <td>0.660407</td>\n",
              "      <td>0.000608</td>\n",
              "      <td>0.999872</td>\n",
              "      <td>0.441696</td>\n",
              "      <td>0.665572</td>\n",
              "      <td>...</td>\n",
              "      <td>0.0</td>\n",
              "      <td>0.0</td>\n",
              "      <td>0.0</td>\n",
              "      <td>0.0</td>\n",
              "      <td>0.0</td>\n",
              "      <td>0.0</td>\n",
              "      <td>0.0</td>\n",
              "      <td>0.0</td>\n",
              "      <td>0.401734</td>\n",
              "      <td>0.0</td>\n",
              "    </tr>\n",
              "    <tr>\n",
              "      <th>29157</th>\n",
              "      <td>6.097575e-06</td>\n",
              "      <td>0.004325</td>\n",
              "      <td>0.0</td>\n",
              "      <td>0.290704</td>\n",
              "      <td>0.271106</td>\n",
              "      <td>0.863949</td>\n",
              "      <td>0.000096</td>\n",
              "      <td>0.999934</td>\n",
              "      <td>0.283129</td>\n",
              "      <td>0.857635</td>\n",
              "      <td>...</td>\n",
              "      <td>1.0</td>\n",
              "      <td>0.0</td>\n",
              "      <td>0.0</td>\n",
              "      <td>0.0</td>\n",
              "      <td>0.0</td>\n",
              "      <td>0.0</td>\n",
              "      <td>0.0</td>\n",
              "      <td>0.0</td>\n",
              "      <td>0.739884</td>\n",
              "      <td>0.0</td>\n",
              "    </tr>\n",
              "    <tr>\n",
              "      <th>29158</th>\n",
              "      <td>6.934872e-05</td>\n",
              "      <td>0.003142</td>\n",
              "      <td>0.0</td>\n",
              "      <td>0.240341</td>\n",
              "      <td>0.379605</td>\n",
              "      <td>0.871960</td>\n",
              "      <td>0.001566</td>\n",
              "      <td>0.999970</td>\n",
              "      <td>0.372838</td>\n",
              "      <td>0.872633</td>\n",
              "      <td>...</td>\n",
              "      <td>0.0</td>\n",
              "      <td>0.0</td>\n",
              "      <td>0.0</td>\n",
              "      <td>0.0</td>\n",
              "      <td>0.0</td>\n",
              "      <td>0.0</td>\n",
              "      <td>0.0</td>\n",
              "      <td>0.0</td>\n",
              "      <td>0.936416</td>\n",
              "      <td>0.0</td>\n",
              "    </tr>\n",
              "    <tr>\n",
              "      <th>29159</th>\n",
              "      <td>1.016460e-07</td>\n",
              "      <td>0.003037</td>\n",
              "      <td>0.0</td>\n",
              "      <td>0.767757</td>\n",
              "      <td>0.208856</td>\n",
              "      <td>0.719069</td>\n",
              "      <td>1.000000</td>\n",
              "      <td>1.000000</td>\n",
              "      <td>0.199060</td>\n",
              "      <td>0.719377</td>\n",
              "      <td>...</td>\n",
              "      <td>0.0</td>\n",
              "      <td>0.0</td>\n",
              "      <td>0.0</td>\n",
              "      <td>0.0</td>\n",
              "      <td>0.0</td>\n",
              "      <td>0.0</td>\n",
              "      <td>0.0</td>\n",
              "      <td>0.0</td>\n",
              "      <td>0.218208</td>\n",
              "      <td>0.0</td>\n",
              "    </tr>\n",
              "    <tr>\n",
              "      <th>29160</th>\n",
              "      <td>8.432301e-01</td>\n",
              "      <td>0.000571</td>\n",
              "      <td>0.0</td>\n",
              "      <td>0.625132</td>\n",
              "      <td>0.381439</td>\n",
              "      <td>0.788449</td>\n",
              "      <td>0.000661</td>\n",
              "      <td>1.000000</td>\n",
              "      <td>0.386482</td>\n",
              "      <td>0.778241</td>\n",
              "      <td>...</td>\n",
              "      <td>0.0</td>\n",
              "      <td>0.0</td>\n",
              "      <td>0.0</td>\n",
              "      <td>0.0</td>\n",
              "      <td>0.0</td>\n",
              "      <td>0.0</td>\n",
              "      <td>0.0</td>\n",
              "      <td>1.0</td>\n",
              "      <td>0.442197</td>\n",
              "      <td>0.0</td>\n",
              "    </tr>\n",
              "  </tbody>\n",
              "</table>\n",
              "<p>29161 rows × 31 columns</p>\n",
              "</div>\n",
              "      <button class=\"colab-df-convert\" onclick=\"convertToInteractive('df-04285f7a-8b46-4e9f-9d1f-da2a5547eda9')\"\n",
              "              title=\"Convert this dataframe to an interactive table.\"\n",
              "              style=\"display:none;\">\n",
              "        \n",
              "  <svg xmlns=\"http://www.w3.org/2000/svg\" height=\"24px\"viewBox=\"0 0 24 24\"\n",
              "       width=\"24px\">\n",
              "    <path d=\"M0 0h24v24H0V0z\" fill=\"none\"/>\n",
              "    <path d=\"M18.56 5.44l.94 2.06.94-2.06 2.06-.94-2.06-.94-.94-2.06-.94 2.06-2.06.94zm-11 1L8.5 8.5l.94-2.06 2.06-.94-2.06-.94L8.5 2.5l-.94 2.06-2.06.94zm10 10l.94 2.06.94-2.06 2.06-.94-2.06-.94-.94-2.06-.94 2.06-2.06.94z\"/><path d=\"M17.41 7.96l-1.37-1.37c-.4-.4-.92-.59-1.43-.59-.52 0-1.04.2-1.43.59L10.3 9.45l-7.72 7.72c-.78.78-.78 2.05 0 2.83L4 21.41c.39.39.9.59 1.41.59.51 0 1.02-.2 1.41-.59l7.78-7.78 2.81-2.81c.8-.78.8-2.07 0-2.86zM5.41 20L4 18.59l7.72-7.72 1.47 1.35L5.41 20z\"/>\n",
              "  </svg>\n",
              "      </button>\n",
              "      \n",
              "  <style>\n",
              "    .colab-df-container {\n",
              "      display:flex;\n",
              "      flex-wrap:wrap;\n",
              "      gap: 12px;\n",
              "    }\n",
              "\n",
              "    .colab-df-convert {\n",
              "      background-color: #E8F0FE;\n",
              "      border: none;\n",
              "      border-radius: 50%;\n",
              "      cursor: pointer;\n",
              "      display: none;\n",
              "      fill: #1967D2;\n",
              "      height: 32px;\n",
              "      padding: 0 0 0 0;\n",
              "      width: 32px;\n",
              "    }\n",
              "\n",
              "    .colab-df-convert:hover {\n",
              "      background-color: #E2EBFA;\n",
              "      box-shadow: 0px 1px 2px rgba(60, 64, 67, 0.3), 0px 1px 3px 1px rgba(60, 64, 67, 0.15);\n",
              "      fill: #174EA6;\n",
              "    }\n",
              "\n",
              "    [theme=dark] .colab-df-convert {\n",
              "      background-color: #3B4455;\n",
              "      fill: #D2E3FC;\n",
              "    }\n",
              "\n",
              "    [theme=dark] .colab-df-convert:hover {\n",
              "      background-color: #434B5C;\n",
              "      box-shadow: 0px 1px 3px 1px rgba(0, 0, 0, 0.15);\n",
              "      filter: drop-shadow(0px 1px 2px rgba(0, 0, 0, 0.3));\n",
              "      fill: #FFFFFF;\n",
              "    }\n",
              "  </style>\n",
              "\n",
              "      <script>\n",
              "        const buttonEl =\n",
              "          document.querySelector('#df-04285f7a-8b46-4e9f-9d1f-da2a5547eda9 button.colab-df-convert');\n",
              "        buttonEl.style.display =\n",
              "          google.colab.kernel.accessAllowed ? 'block' : 'none';\n",
              "\n",
              "        async function convertToInteractive(key) {\n",
              "          const element = document.querySelector('#df-04285f7a-8b46-4e9f-9d1f-da2a5547eda9');\n",
              "          const dataTable =\n",
              "            await google.colab.kernel.invokeFunction('convertToInteractive',\n",
              "                                                     [key], {});\n",
              "          if (!dataTable) return;\n",
              "\n",
              "          const docLinkHtml = 'Like what you see? Visit the ' +\n",
              "            '<a target=\"_blank\" href=https://colab.research.google.com/notebooks/data_table.ipynb>data table notebook</a>'\n",
              "            + ' to learn more about interactive tables.';\n",
              "          element.innerHTML = '';\n",
              "          dataTable['output_type'] = 'display_data';\n",
              "          await google.colab.output.renderOutput(dataTable, element);\n",
              "          const docLink = document.createElement('div');\n",
              "          docLink.innerHTML = docLinkHtml;\n",
              "          element.appendChild(docLink);\n",
              "        }\n",
              "      </script>\n",
              "    </div>\n",
              "  </div>\n",
              "  "
            ]
          },
          "metadata": {},
          "execution_count": 131
        }
      ],
      "source": [
        "new = scaler.fit_transform(final_data1)\n",
        "final_data = pd.DataFrame(new, columns=final_data1.columns)\n",
        "final_data"
      ]
    },
    {
      "cell_type": "markdown",
      "metadata": {
        "id": "jpek_EAGGp75"
      },
      "source": [
        "# Data Visualization"
      ]
    },
    {
      "cell_type": "markdown",
      "metadata": {
        "id": "vgln40hThKQc"
      },
      "source": [
        "**Visual representation**"
      ]
    },
    {
      "cell_type": "code",
      "execution_count": null,
      "metadata": {
        "colab": {
          "base_uri": "https://localhost:8080/",
          "height": 514
        },
        "id": "jMgtN7QNhSEY",
        "outputId": "e6c0df90-650b-418d-e003-0a79c8f123c7"
      },
      "outputs": [
        {
          "output_type": "display_data",
          "data": {
            "text/plain": [
              "<Figure size 864x576 with 1 Axes>"
            ],
            "image/png": "[encoded data removed]"
          },
          "metadata": {
            "needs_background": "light"
          }
        }
      ],
      "source": [
        "plt.figure(figsize=(12,8))\n",
        "sns.countplot(x='is_fraud', data=df2)\n",
        "plt.title('Number of fraudulent vs non-fraudulent transcations')\n",
        "plt.show()"
      ]
    },
    {
      "cell_type": "markdown",
      "metadata": {
        "id": "6ziZ2c49_vWV"
      },
      "source": [
        "**Observe the distribution of classes with time**"
      ]
    },
    {
      "cell_type": "code",
      "execution_count": null,
      "metadata": {
        "id": "ZDTmNF56_qfi"
      },
      "outputs": [],
      "source": [
        "#Fraud Transactions\n",
        "fraud=final_data[final_data.is_fraud==1]\n",
        "#Valid Transactions\n",
        "valid=final_data[final_data.is_fraud==0]"
      ]
    },
    {
      "cell_type": "code",
      "execution_count": null,
      "metadata": {
        "colab": {
          "base_uri": "https://localhost:8080/",
          "height": 503
        },
        "id": "YsHKhoKgxldR",
        "outputId": "3731e1d7-60de-40e7-f23e-b6e5e1c23873"
      },
      "outputs": [
        {
          "output_type": "execute_result",
          "data": {
            "text/plain": [
              "<matplotlib.axes._subplots.AxesSubplot at 0x7f03ed9a4b90>"
            ]
          },
          "metadata": {},
          "execution_count": 134
        },
        {
          "output_type": "display_data",
          "data": {
            "text/plain": [
              "<Figure size 1440x576 with 1 Axes>"
            ],
            "image/png": "[encoded data removed]"
          },
          "metadata": {
            "needs_background": "light"
          }
        }
      ],
      "source": [
        "plt.figure(figsize=(20,8))\n",
        "plt.title('Number of frauds by category')\n",
        "sns.barplot(x=\"category\", y='is_fraud' ,data=df2)"
      ]
    },
    {
      "cell_type": "markdown",
      "metadata": {
        "id": "iHF2ZL_3EIkF"
      },
      "source": [
        "**Observe the distribution of classes with amount**"
      ]
    },
    {
      "cell_type": "code",
      "execution_count": null,
      "metadata": {
        "colab": {
          "base_uri": "https://localhost:8080/",
          "height": 513
        },
        "id": "WKeZrnR2EOiG",
        "outputId": "e7be3750-7a5b-4aab-facc-9f7f92b81148"
      },
      "outputs": [
        {
          "output_type": "display_data",
          "data": {
            "text/plain": [
              "<Figure size 864x576 with 1 Axes>"
            ],
            "image/png": "[encoded data removed]"
          },
          "metadata": {
            "needs_background": "light"
          }
        }
      ],
      "source": [
        "# Create a scatter plot to observe the distribution of classes with Amount\n",
        "plt.figure(figsize=(12,8))\n",
        "sns.scatterplot(df2[\"amt\"], df2[\"is_fraud\"])\n",
        "plt.title(\"Amount vs Class scatter plot\")\n",
        "plt.show()"
      ]
    },
    {
      "cell_type": "markdown",
      "metadata": {
        "id": "zB8fM8KvEcFD"
      },
      "source": [
        "Clearly low amount transactions are more likely to be fraudulent than high amount transaction"
      ]
    },
    {
      "cell_type": "markdown",
      "metadata": {
        "id": "QIutjuVWGz6H"
      },
      "source": [
        "# Splitting the data"
      ]
    },
    {
      "cell_type": "code",
      "execution_count": null,
      "metadata": {
        "id": "x3PO5UxyQJ-K"
      },
      "outputs": [],
      "source": [
        "from sklearn.model_selection import train_test_split"
      ]
    },
    {
      "cell_type": "code",
      "execution_count": null,
      "metadata": {
        "id": "c7vgcNWLva7M"
      },
      "outputs": [],
      "source": [
        "X = final_data.drop(['is_fraud'], axis=1)"
      ]
    },
    {
      "cell_type": "code",
      "execution_count": null,
      "metadata": {
        "id": "dijt6DLlvc6d"
      },
      "outputs": [],
      "source": [
        "y = final_data['is_fraud']"
      ]
    },
    {
      "cell_type": "code",
      "execution_count": null,
      "metadata": {
        "colab": {
          "base_uri": "https://localhost:8080/",
          "height": 661
        },
        "id": "5c1CvwixUl6d",
        "outputId": "02899928-c329-4539-847b-777b90ea7892"
      },
      "outputs": [
        {
          "output_type": "execute_result",
          "data": {
            "text/plain": [
              "             cc_num       amt  gender       zip       lat      long  city_pop  \\\n",
              "0      4.268159e-05  0.012467     0.0  0.383281  0.259843  0.773118  0.006764   \n",
              "1      9.447464e-04  0.006348     0.0  0.589790  0.605376  0.540581  0.000248   \n",
              "2      7.146578e-04  0.003995     0.0  0.125253  0.514947  0.917426  0.000429   \n",
              "3      6.085720e-06  0.000901     0.0  0.174086  0.461732  0.921842  0.002231   \n",
              "4      7.157608e-04  0.000426     0.0  0.569296  0.550578  0.686835  0.000014   \n",
              "...             ...       ...     ...       ...       ...       ...       ...   \n",
              "29156  7.539238e-05  0.000011     0.0  0.688275  0.452762  0.660407  0.000608   \n",
              "29157  6.097575e-06  0.004325     0.0  0.290704  0.271106  0.863949  0.000096   \n",
              "29158  6.934872e-05  0.003142     0.0  0.240341  0.379605  0.871960  0.001566   \n",
              "29159  1.016460e-07  0.003037     0.0  0.767757  0.208856  0.719069  1.000000   \n",
              "29160  8.432301e-01  0.000571     0.0  0.625132  0.381439  0.788449  0.000661   \n",
              "\n",
              "       unix_time  merch_lat  merch_long  ...  category_health_fitness  \\\n",
              "0       0.000000   0.264290    0.761335  ...                      0.0   \n",
              "1       0.000017   0.618807    0.532344  ...                      0.0   \n",
              "2       0.000063   0.514052    0.908925  ...                      0.0   \n",
              "3       0.000085   0.448957    0.906355  ...                      0.0   \n",
              "4       0.000122   0.567180    0.690029  ...                      0.0   \n",
              "...          ...        ...         ...  ...                      ...   \n",
              "29156   0.999872   0.441696    0.665572  ...                      0.0   \n",
              "29157   0.999934   0.283129    0.857635  ...                      0.0   \n",
              "29158   0.999970   0.372838    0.872633  ...                      0.0   \n",
              "29159   1.000000   0.199060    0.719377  ...                      0.0   \n",
              "29160   1.000000   0.386482    0.778241  ...                      0.0   \n",
              "\n",
              "       category_home  category_kids_pets  category_misc_net  \\\n",
              "0                0.0                 0.0                0.0   \n",
              "1                0.0                 0.0                0.0   \n",
              "2                0.0                 0.0                0.0   \n",
              "3                0.0                 0.0                1.0   \n",
              "4                0.0                 0.0                0.0   \n",
              "...              ...                 ...                ...   \n",
              "29156            0.0                 0.0                0.0   \n",
              "29157            1.0                 0.0                0.0   \n",
              "29158            0.0                 0.0                0.0   \n",
              "29159            0.0                 0.0                0.0   \n",
              "29160            0.0                 0.0                0.0   \n",
              "\n",
              "       category_misc_pos  category_personal_care  category_shopping_net  \\\n",
              "0                    1.0                     0.0                    0.0   \n",
              "1                    0.0                     0.0                    0.0   \n",
              "2                    0.0                     0.0                    0.0   \n",
              "3                    0.0                     0.0                    0.0   \n",
              "4                    1.0                     0.0                    0.0   \n",
              "...                  ...                     ...                    ...   \n",
              "29156                0.0                     0.0                    0.0   \n",
              "29157                0.0                     0.0                    0.0   \n",
              "29158                0.0                     0.0                    0.0   \n",
              "29159                0.0                     0.0                    0.0   \n",
              "29160                0.0                     0.0                    0.0   \n",
              "\n",
              "       category_shopping_pos  category_travel  merchant_number  \n",
              "0                        0.0              0.0         0.325145  \n",
              "1                        0.0              0.0         0.390173  \n",
              "2                        0.0              0.0         0.479769  \n",
              "3                        0.0              0.0         0.686416  \n",
              "4                        0.0              0.0         0.429191  \n",
              "...                      ...              ...              ...  \n",
              "29156                    0.0              0.0         0.401734  \n",
              "29157                    0.0              0.0         0.739884  \n",
              "29158                    0.0              0.0         0.936416  \n",
              "29159                    0.0              0.0         0.218208  \n",
              "29160                    0.0              1.0         0.442197  \n",
              "\n",
              "[29161 rows x 30 columns]"
            ],
            "text/html": [
              "\n",
              "  <div id=\"df-50a998ee-def0-4de1-b684-9791d381b104\">\n",
              "    <div class=\"colab-df-container\">\n",
              "      <div>\n",
              "<style scoped>\n",
              "    .dataframe tbody tr th:only-of-type {\n",
              "        vertical-align: middle;\n",
              "    }\n",
              "\n",
              "    .dataframe tbody tr th {\n",
              "        vertical-align: top;\n",
              "    }\n",
              "\n",
              "    .dataframe thead th {\n",
              "        text-align: right;\n",
              "    }\n",
              "</style>\n",
              "<table border=\"1\" class=\"dataframe\">\n",
              "  <thead>\n",
              "    <tr style=\"text-align: right;\">\n",
              "      <th></th>\n",
              "      <th>cc_num</th>\n",
              "      <th>amt</th>\n",
              "      <th>gender</th>\n",
              "      <th>zip</th>\n",
              "      <th>lat</th>\n",
              "      <th>long</th>\n",
              "      <th>city_pop</th>\n",
              "      <th>unix_time</th>\n",
              "      <th>merch_lat</th>\n",
              "      <th>merch_long</th>\n",
              "      <th>...</th>\n",
              "      <th>category_health_fitness</th>\n",
              "      <th>category_home</th>\n",
              "      <th>category_kids_pets</th>\n",
              "      <th>category_misc_net</th>\n",
              "      <th>category_misc_pos</th>\n",
              "      <th>category_personal_care</th>\n",
              "      <th>category_shopping_net</th>\n",
              "      <th>category_shopping_pos</th>\n",
              "      <th>category_travel</th>\n",
              "      <th>merchant_number</th>\n",
              "    </tr>\n",
              "  </thead>\n",
              "  <tbody>\n",
              "    <tr>\n",
              "      <th>0</th>\n",
              "      <td>4.268159e-05</td>\n",
              "      <td>0.012467</td>\n",
              "      <td>0.0</td>\n",
              "      <td>0.383281</td>\n",
              "      <td>0.259843</td>\n",
              "      <td>0.773118</td>\n",
              "      <td>0.006764</td>\n",
              "      <td>0.000000</td>\n",
              "      <td>0.264290</td>\n",
              "      <td>0.761335</td>\n",
              "      <td>...</td>\n",
              "      <td>0.0</td>\n",
              "      <td>0.0</td>\n",
              "      <td>0.0</td>\n",
              "      <td>0.0</td>\n",
              "      <td>1.0</td>\n",
              "      <td>0.0</td>\n",
              "      <td>0.0</td>\n",
              "      <td>0.0</td>\n",
              "      <td>0.0</td>\n",
              "      <td>0.325145</td>\n",
              "    </tr>\n",
              "    <tr>\n",
              "      <th>1</th>\n",
              "      <td>9.447464e-04</td>\n",
              "      <td>0.006348</td>\n",
              "      <td>0.0</td>\n",
              "      <td>0.589790</td>\n",
              "      <td>0.605376</td>\n",
              "      <td>0.540581</td>\n",
              "      <td>0.000248</td>\n",
              "      <td>0.000017</td>\n",
              "      <td>0.618807</td>\n",
              "      <td>0.532344</td>\n",
              "      <td>...</td>\n",
              "      <td>0.0</td>\n",
              "      <td>0.0</td>\n",
              "      <td>0.0</td>\n",
              "      <td>0.0</td>\n",
              "      <td>0.0</td>\n",
              "      <td>0.0</td>\n",
              "      <td>0.0</td>\n",
              "      <td>0.0</td>\n",
              "      <td>0.0</td>\n",
              "      <td>0.390173</td>\n",
              "    </tr>\n",
              "    <tr>\n",
              "      <th>2</th>\n",
              "      <td>7.146578e-04</td>\n",
              "      <td>0.003995</td>\n",
              "      <td>0.0</td>\n",
              "      <td>0.125253</td>\n",
              "      <td>0.514947</td>\n",
              "      <td>0.917426</td>\n",
              "      <td>0.000429</td>\n",
              "      <td>0.000063</td>\n",
              "      <td>0.514052</td>\n",
              "      <td>0.908925</td>\n",
              "      <td>...</td>\n",
              "      <td>0.0</td>\n",
              "      <td>0.0</td>\n",
              "      <td>0.0</td>\n",
              "      <td>0.0</td>\n",
              "      <td>0.0</td>\n",
              "      <td>0.0</td>\n",
              "      <td>0.0</td>\n",
              "      <td>0.0</td>\n",
              "      <td>0.0</td>\n",
              "      <td>0.479769</td>\n",
              "    </tr>\n",
              "    <tr>\n",
              "      <th>3</th>\n",
              "      <td>6.085720e-06</td>\n",
              "      <td>0.000901</td>\n",
              "      <td>0.0</td>\n",
              "      <td>0.174086</td>\n",
              "      <td>0.461732</td>\n",
              "      <td>0.921842</td>\n",
              "      <td>0.002231</td>\n",
              "      <td>0.000085</td>\n",
              "      <td>0.448957</td>\n",
              "      <td>0.906355</td>\n",
              "      <td>...</td>\n",
              "      <td>0.0</td>\n",
              "      <td>0.0</td>\n",
              "      <td>0.0</td>\n",
              "      <td>1.0</td>\n",
              "      <td>0.0</td>\n",
              "      <td>0.0</td>\n",
              "      <td>0.0</td>\n",
              "      <td>0.0</td>\n",
              "      <td>0.0</td>\n",
              "      <td>0.686416</td>\n",
              "    </tr>\n",
              "    <tr>\n",
              "      <th>4</th>\n",
              "      <td>7.157608e-04</td>\n",
              "      <td>0.000426</td>\n",
              "      <td>0.0</td>\n",
              "      <td>0.569296</td>\n",
              "      <td>0.550578</td>\n",
              "      <td>0.686835</td>\n",
              "      <td>0.000014</td>\n",
              "      <td>0.000122</td>\n",
              "      <td>0.567180</td>\n",
              "      <td>0.690029</td>\n",
              "      <td>...</td>\n",
              "      <td>0.0</td>\n",
              "      <td>0.0</td>\n",
              "      <td>0.0</td>\n",
              "      <td>0.0</td>\n",
              "      <td>1.0</td>\n",
              "      <td>0.0</td>\n",
              "      <td>0.0</td>\n",
              "      <td>0.0</td>\n",
              "      <td>0.0</td>\n",
              "      <td>0.429191</td>\n",
              "    </tr>\n",
              "    <tr>\n",
              "      <th>...</th>\n",
              "      <td>...</td>\n",
              "      <td>...</td>\n",
              "      <td>...</td>\n",
              "      <td>...</td>\n",
              "      <td>...</td>\n",
              "      <td>...</td>\n",
              "      <td>...</td>\n",
              "      <td>...</td>\n",
              "      <td>...</td>\n",
              "      <td>...</td>\n",
              "      <td>...</td>\n",
              "      <td>...</td>\n",
              "      <td>...</td>\n",
              "      <td>...</td>\n",
              "      <td>...</td>\n",
              "      <td>...</td>\n",
              "      <td>...</td>\n",
              "      <td>...</td>\n",
              "      <td>...</td>\n",
              "      <td>...</td>\n",
              "      <td>...</td>\n",
              "    </tr>\n",
              "    <tr>\n",
              "      <th>29156</th>\n",
              "      <td>7.539238e-05</td>\n",
              "      <td>0.000011</td>\n",
              "      <td>0.0</td>\n",
              "      <td>0.688275</td>\n",
              "      <td>0.452762</td>\n",
              "      <td>0.660407</td>\n",
              "      <td>0.000608</td>\n",
              "      <td>0.999872</td>\n",
              "      <td>0.441696</td>\n",
              "      <td>0.665572</td>\n",
              "      <td>...</td>\n",
              "      <td>0.0</td>\n",
              "      <td>0.0</td>\n",
              "      <td>0.0</td>\n",
              "      <td>0.0</td>\n",
              "      <td>0.0</td>\n",
              "      <td>0.0</td>\n",
              "      <td>0.0</td>\n",
              "      <td>0.0</td>\n",
              "      <td>0.0</td>\n",
              "      <td>0.401734</td>\n",
              "    </tr>\n",
              "    <tr>\n",
              "      <th>29157</th>\n",
              "      <td>6.097575e-06</td>\n",
              "      <td>0.004325</td>\n",
              "      <td>0.0</td>\n",
              "      <td>0.290704</td>\n",
              "      <td>0.271106</td>\n",
              "      <td>0.863949</td>\n",
              "      <td>0.000096</td>\n",
              "      <td>0.999934</td>\n",
              "      <td>0.283129</td>\n",
              "      <td>0.857635</td>\n",
              "      <td>...</td>\n",
              "      <td>0.0</td>\n",
              "      <td>1.0</td>\n",
              "      <td>0.0</td>\n",
              "      <td>0.0</td>\n",
              "      <td>0.0</td>\n",
              "      <td>0.0</td>\n",
              "      <td>0.0</td>\n",
              "      <td>0.0</td>\n",
              "      <td>0.0</td>\n",
              "      <td>0.739884</td>\n",
              "    </tr>\n",
              "    <tr>\n",
              "      <th>29158</th>\n",
              "      <td>6.934872e-05</td>\n",
              "      <td>0.003142</td>\n",
              "      <td>0.0</td>\n",
              "      <td>0.240341</td>\n",
              "      <td>0.379605</td>\n",
              "      <td>0.871960</td>\n",
              "      <td>0.001566</td>\n",
              "      <td>0.999970</td>\n",
              "      <td>0.372838</td>\n",
              "      <td>0.872633</td>\n",
              "      <td>...</td>\n",
              "      <td>0.0</td>\n",
              "      <td>0.0</td>\n",
              "      <td>0.0</td>\n",
              "      <td>0.0</td>\n",
              "      <td>0.0</td>\n",
              "      <td>0.0</td>\n",
              "      <td>0.0</td>\n",
              "      <td>0.0</td>\n",
              "      <td>0.0</td>\n",
              "      <td>0.936416</td>\n",
              "    </tr>\n",
              "    <tr>\n",
              "      <th>29159</th>\n",
              "      <td>1.016460e-07</td>\n",
              "      <td>0.003037</td>\n",
              "      <td>0.0</td>\n",
              "      <td>0.767757</td>\n",
              "      <td>0.208856</td>\n",
              "      <td>0.719069</td>\n",
              "      <td>1.000000</td>\n",
              "      <td>1.000000</td>\n",
              "      <td>0.199060</td>\n",
              "      <td>0.719377</td>\n",
              "      <td>...</td>\n",
              "      <td>0.0</td>\n",
              "      <td>0.0</td>\n",
              "      <td>0.0</td>\n",
              "      <td>0.0</td>\n",
              "      <td>0.0</td>\n",
              "      <td>0.0</td>\n",
              "      <td>0.0</td>\n",
              "      <td>0.0</td>\n",
              "      <td>0.0</td>\n",
              "      <td>0.218208</td>\n",
              "    </tr>\n",
              "    <tr>\n",
              "      <th>29160</th>\n",
              "      <td>8.432301e-01</td>\n",
              "      <td>0.000571</td>\n",
              "      <td>0.0</td>\n",
              "      <td>0.625132</td>\n",
              "      <td>0.381439</td>\n",
              "      <td>0.788449</td>\n",
              "      <td>0.000661</td>\n",
              "      <td>1.000000</td>\n",
              "      <td>0.386482</td>\n",
              "      <td>0.778241</td>\n",
              "      <td>...</td>\n",
              "      <td>0.0</td>\n",
              "      <td>0.0</td>\n",
              "      <td>0.0</td>\n",
              "      <td>0.0</td>\n",
              "      <td>0.0</td>\n",
              "      <td>0.0</td>\n",
              "      <td>0.0</td>\n",
              "      <td>0.0</td>\n",
              "      <td>1.0</td>\n",
              "      <td>0.442197</td>\n",
              "    </tr>\n",
              "  </tbody>\n",
              "</table>\n",
              "<p>29161 rows × 30 columns</p>\n",
              "</div>\n",
              "      <button class=\"colab-df-convert\" onclick=\"convertToInteractive('df-50a998ee-def0-4de1-b684-9791d381b104')\"\n",
              "              title=\"Convert this dataframe to an interactive table.\"\n",
              "              style=\"display:none;\">\n",
              "        \n",
              "  <svg xmlns=\"http://www.w3.org/2000/svg\" height=\"24px\"viewBox=\"0 0 24 24\"\n",
              "       width=\"24px\">\n",
              "    <path d=\"M0 0h24v24H0V0z\" fill=\"none\"/>\n",
              "    <path d=\"M18.56 5.44l.94 2.06.94-2.06 2.06-.94-2.06-.94-.94-2.06-.94 2.06-2.06.94zm-11 1L8.5 8.5l.94-2.06 2.06-.94-2.06-.94L8.5 2.5l-.94 2.06-2.06.94zm10 10l.94 2.06.94-2.06 2.06-.94-2.06-.94-.94-2.06-.94 2.06-2.06.94z\"/><path d=\"M17.41 7.96l-1.37-1.37c-.4-.4-.92-.59-1.43-.59-.52 0-1.04.2-1.43.59L10.3 9.45l-7.72 7.72c-.78.78-.78 2.05 0 2.83L4 21.41c.39.39.9.59 1.41.59.51 0 1.02-.2 1.41-.59l7.78-7.78 2.81-2.81c.8-.78.8-2.07 0-2.86zM5.41 20L4 18.59l7.72-7.72 1.47 1.35L5.41 20z\"/>\n",
              "  </svg>\n",
              "      </button>\n",
              "      \n",
              "  <style>\n",
              "    .colab-df-container {\n",
              "      display:flex;\n",
              "      flex-wrap:wrap;\n",
              "      gap: 12px;\n",
              "    }\n",
              "\n",
              "    .colab-df-convert {\n",
              "      background-color: #E8F0FE;\n",
              "      border: none;\n",
              "      border-radius: 50%;\n",
              "      cursor: pointer;\n",
              "      display: none;\n",
              "      fill: #1967D2;\n",
              "      height: 32px;\n",
              "      padding: 0 0 0 0;\n",
              "      width: 32px;\n",
              "    }\n",
              "\n",
              "    .colab-df-convert:hover {\n",
              "      background-color: #E2EBFA;\n",
              "      box-shadow: 0px 1px 2px rgba(60, 64, 67, 0.3), 0px 1px 3px 1px rgba(60, 64, 67, 0.15);\n",
              "      fill: #174EA6;\n",
              "    }\n",
              "\n",
              "    [theme=dark] .colab-df-convert {\n",
              "      background-color: #3B4455;\n",
              "      fill: #D2E3FC;\n",
              "    }\n",
              "\n",
              "    [theme=dark] .colab-df-convert:hover {\n",
              "      background-color: #434B5C;\n",
              "      box-shadow: 0px 1px 3px 1px rgba(0, 0, 0, 0.15);\n",
              "      filter: drop-shadow(0px 1px 2px rgba(0, 0, 0, 0.3));\n",
              "      fill: #FFFFFF;\n",
              "    }\n",
              "  </style>\n",
              "\n",
              "      <script>\n",
              "        const buttonEl =\n",
              "          document.querySelector('#df-50a998ee-def0-4de1-b684-9791d381b104 button.colab-df-convert');\n",
              "        buttonEl.style.display =\n",
              "          google.colab.kernel.accessAllowed ? 'block' : 'none';\n",
              "\n",
              "        async function convertToInteractive(key) {\n",
              "          const element = document.querySelector('#df-50a998ee-def0-4de1-b684-9791d381b104');\n",
              "          const dataTable =\n",
              "            await google.colab.kernel.invokeFunction('convertToInteractive',\n",
              "                                                     [key], {});\n",
              "          if (!dataTable) return;\n",
              "\n",
              "          const docLinkHtml = 'Like what you see? Visit the ' +\n",
              "            '<a target=\"_blank\" href=https://colab.research.google.com/notebooks/data_table.ipynb>data table notebook</a>'\n",
              "            + ' to learn more about interactive tables.';\n",
              "          element.innerHTML = '';\n",
              "          dataTable['output_type'] = 'display_data';\n",
              "          await google.colab.output.renderOutput(dataTable, element);\n",
              "          const docLink = document.createElement('div');\n",
              "          docLink.innerHTML = docLinkHtml;\n",
              "          element.appendChild(docLink);\n",
              "        }\n",
              "      </script>\n",
              "    </div>\n",
              "  </div>\n",
              "  "
            ]
          },
          "metadata": {},
          "execution_count": 139
        }
      ],
      "source": [
        "X"
      ]
    },
    {
      "cell_type": "code",
      "execution_count": null,
      "metadata": {
        "colab": {
          "base_uri": "https://localhost:8080/"
        },
        "id": "fHK1wthQVYQM",
        "outputId": "a98bdd65-4418-495a-aee7-a336ba8fee9b"
      },
      "outputs": [
        {
          "output_type": "execute_result",
          "data": {
            "text/plain": [
              "0        0.0\n",
              "1        0.0\n",
              "2        0.0\n",
              "3        0.0\n",
              "4        0.0\n",
              "        ... \n",
              "29156    0.0\n",
              "29157    0.0\n",
              "29158    0.0\n",
              "29159    0.0\n",
              "29160    0.0\n",
              "Name: is_fraud, Length: 29161, dtype: float64"
            ]
          },
          "metadata": {},
          "execution_count": 140
        }
      ],
      "source": [
        "y"
      ]
    },
    {
      "cell_type": "code",
      "execution_count": null,
      "metadata": {
        "id": "HpcQCfaXQC7r"
      },
      "outputs": [],
      "source": [
        "\n",
        "X_train, X_test, y_train, y_test = train_test_split(X, y, test_size=0.3, random_state=100)\n"
      ]
    },
    {
      "cell_type": "code",
      "execution_count": null,
      "metadata": {
        "colab": {
          "base_uri": "https://localhost:8080/"
        },
        "id": "uPPqm2ihQzBP",
        "outputId": "5ffc8082-4444-4a2d-9c57-6fe391d38abe"
      },
      "outputs": [
        {
          "output_type": "stream",
          "name": "stdout",
          "text": [
            "length of X_train: 20412\n",
            "length of y_train: 20412\n",
            "length of X_test: 8749\n",
            "length of y_test: 8749\n"
          ]
        }
      ],
      "source": [
        "print('length of X_train:',len(X_train))\n",
        "print('length of y_train:',len(y_train))\n",
        "print('length of X_test:',len(X_test))\n",
        "print('length of y_test:',len(y_test))"
      ]
    },
    {
      "cell_type": "code",
      "execution_count": null,
      "metadata": {
        "colab": {
          "base_uri": "https://localhost:8080/"
        },
        "id": "Qw59_iNM1scX",
        "outputId": "09d3e935-285e-41ad-aab7-e328b4a1088d"
      },
      "outputs": [
        {
          "output_type": "execute_result",
          "data": {
            "text/plain": [
              "(8749, 30)"
            ]
          },
          "metadata": {},
          "execution_count": 143
        }
      ],
      "source": [
        "X_test.shape"
      ]
    },
    {
      "cell_type": "markdown",
      "metadata": {
        "id": "9ZJ_PfBpHLW_"
      },
      "source": [
        "# Model Building"
      ]
    },
    {
      "cell_type": "code",
      "execution_count": null,
      "metadata": {
        "id": "buBmMo7M9bC6"
      },
      "outputs": [],
      "source": [
        "from sklearn import metrics\n",
        "from sklearn.metrics import accuracy_score\n",
        "from sklearn.metrics import precision_score \n",
        "from sklearn.metrics import recall_score\n",
        "from sklearn.metrics import confusion_matrix\n",
        "from sklearn.metrics import f1_score\n",
        "from sklearn.metrics import classification_report"
      ]
    },
    {
      "cell_type": "markdown",
      "metadata": {
        "id": "cFwodLmrFyWI"
      },
      "source": [
        "## Logestic Regression"
      ]
    },
    {
      "cell_type": "code",
      "execution_count": null,
      "metadata": {
        "id": "ijZuRvhgWE0u"
      },
      "outputs": [],
      "source": [
        "from sklearn.linear_model import LogisticRegression"
      ]
    },
    {
      "cell_type": "code",
      "execution_count": null,
      "metadata": {
        "id": "f45R1YNpYdq6"
      },
      "outputs": [],
      "source": [
        "Log_Reg = LogisticRegression()"
      ]
    },
    {
      "cell_type": "code",
      "execution_count": null,
      "metadata": {
        "colab": {
          "base_uri": "https://localhost:8080/"
        },
        "id": "mqLfltXoYmnm",
        "outputId": "88abafe1-6634-4fb8-b75b-96e66385170c"
      },
      "outputs": [
        {
          "output_type": "execute_result",
          "data": {
            "text/plain": [
              "LogisticRegression()"
            ]
          },
          "metadata": {},
          "execution_count": 147
        }
      ],
      "source": [
        "Log_Reg.fit(X_train,y_train)"
      ]
    },
    {
      "cell_type": "code",
      "execution_count": null,
      "metadata": {
        "colab": {
          "base_uri": "https://localhost:8080/"
        },
        "id": "7d83qH0fYzu3",
        "outputId": "d0918114-2d49-4588-87ad-07e36515c4fe"
      },
      "outputs": [
        {
          "output_type": "execute_result",
          "data": {
            "text/plain": [
              "array([0., 1., 0., ..., 0., 0., 0.])"
            ]
          },
          "metadata": {},
          "execution_count": 148
        }
      ],
      "source": [
        "y_pred0 = Log_Reg.predict(X_test)\n",
        "y_pred0"
      ]
    },
    {
      "cell_type": "code",
      "execution_count": null,
      "metadata": {
        "id": "hJSw4-4PZj3f"
      },
      "outputs": [],
      "source": [
        "cn0 = confusion_matrix(y_test,y_pred0)"
      ]
    },
    {
      "cell_type": "code",
      "execution_count": null,
      "metadata": {
        "colab": {
          "base_uri": "https://localhost:8080/",
          "height": 174
        },
        "id": "Ft32BM_9Zm9a",
        "outputId": "39c8c334-735f-44b8-f35a-f47c6f826bdc"
      },
      "outputs": [
        {
          "output_type": "execute_result",
          "data": {
            "text/plain": [
              "Predicted   0.0   1.0   All\n",
              "Actual                     \n",
              "0.0        5634   215  5849\n",
              "1.0         854  2046  2900\n",
              "All        6488  2261  8749"
            ],
            "text/html": [
              "\n",
              "  <div id=\"df-b43e8ea4-7e50-4f34-8f92-e5536053a2a5\">\n",
              "    <div class=\"colab-df-container\">\n",
              "      <div>\n",
              "<style scoped>\n",
              "    .dataframe tbody tr th:only-of-type {\n",
              "        vertical-align: middle;\n",
              "    }\n",
              "\n",
              "    .dataframe tbody tr th {\n",
              "        vertical-align: top;\n",
              "    }\n",
              "\n",
              "    .dataframe thead th {\n",
              "        text-align: right;\n",
              "    }\n",
              "</style>\n",
              "<table border=\"1\" class=\"dataframe\">\n",
              "  <thead>\n",
              "    <tr style=\"text-align: right;\">\n",
              "      <th>Predicted</th>\n",
              "      <th>0.0</th>\n",
              "      <th>1.0</th>\n",
              "      <th>All</th>\n",
              "    </tr>\n",
              "    <tr>\n",
              "      <th>Actual</th>\n",
              "      <th></th>\n",
              "      <th></th>\n",
              "      <th></th>\n",
              "    </tr>\n",
              "  </thead>\n",
              "  <tbody>\n",
              "    <tr>\n",
              "      <th>0.0</th>\n",
              "      <td>5634</td>\n",
              "      <td>215</td>\n",
              "      <td>5849</td>\n",
              "    </tr>\n",
              "    <tr>\n",
              "      <th>1.0</th>\n",
              "      <td>854</td>\n",
              "      <td>2046</td>\n",
              "      <td>2900</td>\n",
              "    </tr>\n",
              "    <tr>\n",
              "      <th>All</th>\n",
              "      <td>6488</td>\n",
              "      <td>2261</td>\n",
              "      <td>8749</td>\n",
              "    </tr>\n",
              "  </tbody>\n",
              "</table>\n",
              "</div>\n",
              "      <button class=\"colab-df-convert\" onclick=\"convertToInteractive('df-b43e8ea4-7e50-4f34-8f92-e5536053a2a5')\"\n",
              "              title=\"Convert this dataframe to an interactive table.\"\n",
              "              style=\"display:none;\">\n",
              "        \n",
              "  <svg xmlns=\"http://www.w3.org/2000/svg\" height=\"24px\"viewBox=\"0 0 24 24\"\n",
              "       width=\"24px\">\n",
              "    <path d=\"M0 0h24v24H0V0z\" fill=\"none\"/>\n",
              "    <path d=\"M18.56 5.44l.94 2.06.94-2.06 2.06-.94-2.06-.94-.94-2.06-.94 2.06-2.06.94zm-11 1L8.5 8.5l.94-2.06 2.06-.94-2.06-.94L8.5 2.5l-.94 2.06-2.06.94zm10 10l.94 2.06.94-2.06 2.06-.94-2.06-.94-.94-2.06-.94 2.06-2.06.94z\"/><path d=\"M17.41 7.96l-1.37-1.37c-.4-.4-.92-.59-1.43-.59-.52 0-1.04.2-1.43.59L10.3 9.45l-7.72 7.72c-.78.78-.78 2.05 0 2.83L4 21.41c.39.39.9.59 1.41.59.51 0 1.02-.2 1.41-.59l7.78-7.78 2.81-2.81c.8-.78.8-2.07 0-2.86zM5.41 20L4 18.59l7.72-7.72 1.47 1.35L5.41 20z\"/>\n",
              "  </svg>\n",
              "      </button>\n",
              "      \n",
              "  <style>\n",
              "    .colab-df-container {\n",
              "      display:flex;\n",
              "      flex-wrap:wrap;\n",
              "      gap: 12px;\n",
              "    }\n",
              "\n",
              "    .colab-df-convert {\n",
              "      background-color: #E8F0FE;\n",
              "      border: none;\n",
              "      border-radius: 50%;\n",
              "      cursor: pointer;\n",
              "      display: none;\n",
              "      fill: #1967D2;\n",
              "      height: 32px;\n",
              "      padding: 0 0 0 0;\n",
              "      width: 32px;\n",
              "    }\n",
              "\n",
              "    .colab-df-convert:hover {\n",
              "      background-color: #E2EBFA;\n",
              "      box-shadow: 0px 1px 2px rgba(60, 64, 67, 0.3), 0px 1px 3px 1px rgba(60, 64, 67, 0.15);\n",
              "      fill: #174EA6;\n",
              "    }\n",
              "\n",
              "    [theme=dark] .colab-df-convert {\n",
              "      background-color: #3B4455;\n",
              "      fill: #D2E3FC;\n",
              "    }\n",
              "\n",
              "    [theme=dark] .colab-df-convert:hover {\n",
              "      background-color: #434B5C;\n",
              "      box-shadow: 0px 1px 3px 1px rgba(0, 0, 0, 0.15);\n",
              "      filter: drop-shadow(0px 1px 2px rgba(0, 0, 0, 0.3));\n",
              "      fill: #FFFFFF;\n",
              "    }\n",
              "  </style>\n",
              "\n",
              "      <script>\n",
              "        const buttonEl =\n",
              "          document.querySelector('#df-b43e8ea4-7e50-4f34-8f92-e5536053a2a5 button.colab-df-convert');\n",
              "        buttonEl.style.display =\n",
              "          google.colab.kernel.accessAllowed ? 'block' : 'none';\n",
              "\n",
              "        async function convertToInteractive(key) {\n",
              "          const element = document.querySelector('#df-b43e8ea4-7e50-4f34-8f92-e5536053a2a5');\n",
              "          const dataTable =\n",
              "            await google.colab.kernel.invokeFunction('convertToInteractive',\n",
              "                                                     [key], {});\n",
              "          if (!dataTable) return;\n",
              "\n",
              "          const docLinkHtml = 'Like what you see? Visit the ' +\n",
              "            '<a target=\"_blank\" href=https://colab.research.google.com/notebooks/data_table.ipynb>data table notebook</a>'\n",
              "            + ' to learn more about interactive tables.';\n",
              "          element.innerHTML = '';\n",
              "          dataTable['output_type'] = 'display_data';\n",
              "          await google.colab.output.renderOutput(dataTable, element);\n",
              "          const docLink = document.createElement('div');\n",
              "          docLink.innerHTML = docLinkHtml;\n",
              "          element.appendChild(docLink);\n",
              "        }\n",
              "      </script>\n",
              "    </div>\n",
              "  </div>\n",
              "  "
            ]
          },
          "metadata": {},
          "execution_count": 150
        }
      ],
      "source": [
        "pd.crosstab(y_test,y_pred0, rownames=['Actual'], colnames=['Predicted'], margins= True)"
      ]
    },
    {
      "cell_type": "code",
      "execution_count": null,
      "metadata": {
        "colab": {
          "base_uri": "https://localhost:8080/",
          "height": 311
        },
        "id": "DMaNkS3pEEn4",
        "outputId": "de14f4d8-43d3-4b17-ff52-65050e046fd6"
      },
      "outputs": [
        {
          "output_type": "display_data",
          "data": {
            "text/plain": [
              "<Figure size 432x288 with 1 Axes>"
            ],
            "image/png": "[encoded data removed]"
          },
          "metadata": {
            "needs_background": "light"
          }
        }
      ],
      "source": [
        "sns.heatmap(cn0, annot=True, cbar=None, linewidths=.5, linecolor=\"Black\", cmap=\"Blues\", fmt = 'g')\n",
        "plt.title(\"Confusion Matrix\"), plt.tight_layout()\n",
        "plt.ylabel(\"True Class\"), plt.xlabel(\"Predicted Class\")\n",
        "plt.show()"
      ]
    },
    {
      "cell_type": "code",
      "execution_count": null,
      "metadata": {
        "colab": {
          "base_uri": "https://localhost:8080/"
        },
        "id": "CONcHVudGIvc",
        "outputId": "02a0f224-89da-429b-e177-65d480660456"
      },
      "outputs": [
        {
          "output_type": "stream",
          "name": "stdout",
          "text": [
            "              precision    recall  f1-score   support\n",
            "\n",
            "         0.0   0.868372  0.963242  0.913350      5849\n",
            "         1.0   0.904909  0.705517  0.792870      2900\n",
            "\n",
            "    accuracy                       0.877815      8749\n",
            "   macro avg   0.886641  0.834379  0.853110      8749\n",
            "weighted avg   0.880483  0.877815  0.873415      8749\n",
            "\n"
          ]
        }
      ],
      "source": [
        "print(classification_report(y_test,y_pred0,digits=6))"
      ]
    },
    {
      "cell_type": "code",
      "execution_count": null,
      "metadata": {
        "id": "rIK1PyLPEOtZ"
      },
      "outputs": [],
      "source": [
        "logpre = precision_score(y_test,y_pred0)*100\n",
        "logre = recall_score(y_test,y_pred0)*100 \n",
        "logacc = accuracy_score(y_test,y_pred0)*100\n",
        "logf1 = f1_score(y_test,y_pred0)*100"
      ]
    },
    {
      "cell_type": "code",
      "execution_count": null,
      "metadata": {
        "colab": {
          "base_uri": "https://localhost:8080/"
        },
        "id": "x7Wfg9ehEZz8",
        "outputId": "1a88ae0e-8eb7-49c9-c443-e6682edadf1c"
      },
      "outputs": [
        {
          "output_type": "stream",
          "name": "stdout",
          "text": [
            "Isolation forest accuracy score: 87.7814607383701\n",
            "Isolation forest precision score: 90.49093321539142\n",
            "Isolation forest recall score: 70.55172413793103\n",
            "Isolation forest f1 score: 79.28695989149391\n"
          ]
        }
      ],
      "source": [
        "print('Isolation forest accuracy score:',logacc)\n",
        "print('Isolation forest precision score:',logpre)\n",
        "print('Isolation forest recall score:',logre)\n",
        "print('Isolation forest f1 score:',logf1)"
      ]
    },
    {
      "cell_type": "code",
      "execution_count": null,
      "metadata": {
        "id": "uoq90sE5F9Qc"
      },
      "outputs": [],
      "source": [
        ""
      ]
    },
    {
      "cell_type": "markdown",
      "metadata": {
        "id": "vGbzrV3wHSe-"
      },
      "source": [
        "## K-means clustering"
      ]
    },
    {
      "cell_type": "code",
      "execution_count": null,
      "metadata": {
        "id": "y0r03YYb9I7D"
      },
      "outputs": [],
      "source": [
        "from sklearn.cluster import KMeans"
      ]
    },
    {
      "cell_type": "code",
      "execution_count": null,
      "metadata": {
        "id": "7P2dD00g9Uht"
      },
      "outputs": [],
      "source": [
        "kmeans=KMeans(init='k-means++',n_clusters=2,n_init=10)"
      ]
    },
    {
      "cell_type": "code",
      "execution_count": null,
      "metadata": {
        "colab": {
          "base_uri": "https://localhost:8080/"
        },
        "id": "0JRlqOWIHns1",
        "outputId": "9a034760-44ea-4ded-8e85-24b2a47b6336"
      },
      "outputs": [
        {
          "output_type": "execute_result",
          "data": {
            "text/plain": [
              "KMeans(n_clusters=2)"
            ]
          },
          "metadata": {},
          "execution_count": 157
        }
      ],
      "source": [
        "kmeans.fit(X_train,y_train)"
      ]
    },
    {
      "cell_type": "code",
      "execution_count": null,
      "metadata": {
        "id": "DUFmAPmwIZEG"
      },
      "outputs": [],
      "source": [
        "y_pred1 = kmeans.predict(X_test)"
      ]
    },
    {
      "cell_type": "code",
      "execution_count": null,
      "metadata": {
        "colab": {
          "base_uri": "https://localhost:8080/"
        },
        "id": "lynv-auoJYKg",
        "outputId": "df6a27ba-872b-4b68-efd7-132c0773f844"
      },
      "outputs": [
        {
          "output_type": "execute_result",
          "data": {
            "text/plain": [
              "array([1, 1, 1, ..., 0, 0, 0], dtype=int32)"
            ]
          },
          "metadata": {},
          "execution_count": 159
        }
      ],
      "source": [
        "y_pred1"
      ]
    },
    {
      "cell_type": "code",
      "execution_count": null,
      "metadata": {
        "colab": {
          "base_uri": "https://localhost:8080/"
        },
        "id": "LAG2uTuIJctA",
        "outputId": "7094e217-7081-4dec-953b-d53d67e3e4ba"
      },
      "outputs": [
        {
          "output_type": "execute_result",
          "data": {
            "text/plain": [
              "(array([0, 1], dtype=int32), array([4524, 4225]))"
            ]
          },
          "metadata": {},
          "execution_count": 160
        }
      ],
      "source": [
        "np.unique(y_pred1, return_counts=True)"
      ]
    },
    {
      "cell_type": "code",
      "execution_count": null,
      "metadata": {
        "id": "t9a69S10JxBC"
      },
      "outputs": [],
      "source": [
        "cn1 = confusion_matrix(y_test,y_pred1)"
      ]
    },
    {
      "cell_type": "code",
      "execution_count": null,
      "metadata": {
        "colab": {
          "base_uri": "https://localhost:8080/",
          "height": 174
        },
        "id": "OWw9nVZeJ8j7",
        "outputId": "bf15fdbc-ef17-4bb4-b50d-33bfd5630946"
      },
      "outputs": [
        {
          "output_type": "execute_result",
          "data": {
            "text/plain": [
              "Predicted     0     1   All\n",
              "Actual                     \n",
              "0.0        2919  2930  5849\n",
              "1.0        1605  1295  2900\n",
              "All        4524  4225  8749"
            ],
            "text/html": [
              "\n",
              "  <div id=\"df-373fbc6c-4202-4e9f-9d6e-087c7c260f22\">\n",
              "    <div class=\"colab-df-container\">\n",
              "      <div>\n",
              "<style scoped>\n",
              "    .dataframe tbody tr th:only-of-type {\n",
              "        vertical-align: middle;\n",
              "    }\n",
              "\n",
              "    .dataframe tbody tr th {\n",
              "        vertical-align: top;\n",
              "    }\n",
              "\n",
              "    .dataframe thead th {\n",
              "        text-align: right;\n",
              "    }\n",
              "</style>\n",
              "<table border=\"1\" class=\"dataframe\">\n",
              "  <thead>\n",
              "    <tr style=\"text-align: right;\">\n",
              "      <th>Predicted</th>\n",
              "      <th>0</th>\n",
              "      <th>1</th>\n",
              "      <th>All</th>\n",
              "    </tr>\n",
              "    <tr>\n",
              "      <th>Actual</th>\n",
              "      <th></th>\n",
              "      <th></th>\n",
              "      <th></th>\n",
              "    </tr>\n",
              "  </thead>\n",
              "  <tbody>\n",
              "    <tr>\n",
              "      <th>0.0</th>\n",
              "      <td>2919</td>\n",
              "      <td>2930</td>\n",
              "      <td>5849</td>\n",
              "    </tr>\n",
              "    <tr>\n",
              "      <th>1.0</th>\n",
              "      <td>1605</td>\n",
              "      <td>1295</td>\n",
              "      <td>2900</td>\n",
              "    </tr>\n",
              "    <tr>\n",
              "      <th>All</th>\n",
              "      <td>4524</td>\n",
              "      <td>4225</td>\n",
              "      <td>8749</td>\n",
              "    </tr>\n",
              "  </tbody>\n",
              "</table>\n",
              "</div>\n",
              "      <button class=\"colab-df-convert\" onclick=\"convertToInteractive('df-373fbc6c-4202-4e9f-9d6e-087c7c260f22')\"\n",
              "              title=\"Convert this dataframe to an interactive table.\"\n",
              "              style=\"display:none;\">\n",
              "        \n",
              "  <svg xmlns=\"http://www.w3.org/2000/svg\" height=\"24px\"viewBox=\"0 0 24 24\"\n",
              "       width=\"24px\">\n",
              "    <path d=\"M0 0h24v24H0V0z\" fill=\"none\"/>\n",
              "    <path d=\"M18.56 5.44l.94 2.06.94-2.06 2.06-.94-2.06-.94-.94-2.06-.94 2.06-2.06.94zm-11 1L8.5 8.5l.94-2.06 2.06-.94-2.06-.94L8.5 2.5l-.94 2.06-2.06.94zm10 10l.94 2.06.94-2.06 2.06-.94-2.06-.94-.94-2.06-.94 2.06-2.06.94z\"/><path d=\"M17.41 7.96l-1.37-1.37c-.4-.4-.92-.59-1.43-.59-.52 0-1.04.2-1.43.59L10.3 9.45l-7.72 7.72c-.78.78-.78 2.05 0 2.83L4 21.41c.39.39.9.59 1.41.59.51 0 1.02-.2 1.41-.59l7.78-7.78 2.81-2.81c.8-.78.8-2.07 0-2.86zM5.41 20L4 18.59l7.72-7.72 1.47 1.35L5.41 20z\"/>\n",
              "  </svg>\n",
              "      </button>\n",
              "      \n",
              "  <style>\n",
              "    .colab-df-container {\n",
              "      display:flex;\n",
              "      flex-wrap:wrap;\n",
              "      gap: 12px;\n",
              "    }\n",
              "\n",
              "    .colab-df-convert {\n",
              "      background-color: #E8F0FE;\n",
              "      border: none;\n",
              "      border-radius: 50%;\n",
              "      cursor: pointer;\n",
              "      display: none;\n",
              "      fill: #1967D2;\n",
              "      height: 32px;\n",
              "      padding: 0 0 0 0;\n",
              "      width: 32px;\n",
              "    }\n",
              "\n",
              "    .colab-df-convert:hover {\n",
              "      background-color: #E2EBFA;\n",
              "      box-shadow: 0px 1px 2px rgba(60, 64, 67, 0.3), 0px 1px 3px 1px rgba(60, 64, 67, 0.15);\n",
              "      fill: #174EA6;\n",
              "    }\n",
              "\n",
              "    [theme=dark] .colab-df-convert {\n",
              "      background-color: #3B4455;\n",
              "      fill: #D2E3FC;\n",
              "    }\n",
              "\n",
              "    [theme=dark] .colab-df-convert:hover {\n",
              "      background-color: #434B5C;\n",
              "      box-shadow: 0px 1px 3px 1px rgba(0, 0, 0, 0.15);\n",
              "      filter: drop-shadow(0px 1px 2px rgba(0, 0, 0, 0.3));\n",
              "      fill: #FFFFFF;\n",
              "    }\n",
              "  </style>\n",
              "\n",
              "      <script>\n",
              "        const buttonEl =\n",
              "          document.querySelector('#df-373fbc6c-4202-4e9f-9d6e-087c7c260f22 button.colab-df-convert');\n",
              "        buttonEl.style.display =\n",
              "          google.colab.kernel.accessAllowed ? 'block' : 'none';\n",
              "\n",
              "        async function convertToInteractive(key) {\n",
              "          const element = document.querySelector('#df-373fbc6c-4202-4e9f-9d6e-087c7c260f22');\n",
              "          const dataTable =\n",
              "            await google.colab.kernel.invokeFunction('convertToInteractive',\n",
              "                                                     [key], {});\n",
              "          if (!dataTable) return;\n",
              "\n",
              "          const docLinkHtml = 'Like what you see? Visit the ' +\n",
              "            '<a target=\"_blank\" href=https://colab.research.google.com/notebooks/data_table.ipynb>data table notebook</a>'\n",
              "            + ' to learn more about interactive tables.';\n",
              "          element.innerHTML = '';\n",
              "          dataTable['output_type'] = 'display_data';\n",
              "          await google.colab.output.renderOutput(dataTable, element);\n",
              "          const docLink = document.createElement('div');\n",
              "          docLink.innerHTML = docLinkHtml;\n",
              "          element.appendChild(docLink);\n",
              "        }\n",
              "      </script>\n",
              "    </div>\n",
              "  </div>\n",
              "  "
            ]
          },
          "metadata": {},
          "execution_count": 162
        }
      ],
      "source": [
        "pd.crosstab(y_test,y_pred1, rownames=['Actual'], colnames=['Predicted'], margins= True)"
      ]
    },
    {
      "cell_type": "code",
      "execution_count": null,
      "metadata": {
        "colab": {
          "base_uri": "https://localhost:8080/",
          "height": 311
        },
        "id": "V_-wsw-FT_II",
        "outputId": "0f8ee0db-e889-48a9-8460-f88feede9330"
      },
      "outputs": [
        {
          "output_type": "display_data",
          "data": {
            "text/plain": [
              "<Figure size 432x288 with 1 Axes>"
            ],
            "image/png": "[encoded data removed]"
          },
          "metadata": {
            "needs_background": "light"
          }
        }
      ],
      "source": [
        "sns.heatmap(cn1, annot=True, cbar=None, linewidths=.5, linecolor=\"Black\", cmap=\"Blues\", fmt = 'g')\n",
        "plt.title(\"Confusion Matrix\"), plt.tight_layout()\n",
        "plt.ylabel(\"True Class\"), plt.xlabel(\"Predicted Class\")\n",
        "plt.show()"
      ]
    },
    {
      "cell_type": "code",
      "execution_count": null,
      "metadata": {
        "colab": {
          "base_uri": "https://localhost:8080/"
        },
        "id": "1FNDukFUKOH_",
        "outputId": "ad774dd9-b971-4e3d-d3b6-e886a1ccadc8"
      },
      "outputs": [
        {
          "output_type": "stream",
          "name": "stdout",
          "text": [
            "              precision    recall  f1-score   support\n",
            "\n",
            "         0.0   0.645225  0.499060  0.562807      5849\n",
            "         1.0   0.306509  0.446552  0.363509      2900\n",
            "\n",
            "    accuracy                       0.481655      8749\n",
            "   macro avg   0.475867  0.472806  0.463158      8749\n",
            "weighted avg   0.532952  0.481655  0.496747      8749\n",
            "\n"
          ]
        }
      ],
      "source": [
        "print(classification_report(y_test,y_pred1,digits=6))"
      ]
    },
    {
      "cell_type": "code",
      "execution_count": null,
      "metadata": {
        "id": "F8cYCa7gV0Ki"
      },
      "outputs": [],
      "source": [
        "kre = recall_score(y_test,y_pred1)*100\n",
        "kpre = precision_score(y_test,y_pred1)*100\n",
        "kacc = accuracy_score(y_test,y_pred1)*100\n",
        "kf1 = f1_score(y_test,y_pred1)*100\n",
        "\n"
      ]
    },
    {
      "cell_type": "code",
      "execution_count": null,
      "metadata": {
        "colab": {
          "base_uri": "https://localhost:8080/"
        },
        "id": "xHOn80dzJNOD",
        "outputId": "880f1a20-0d7a-4fe3-93cb-7ebfc88f6d3f"
      },
      "outputs": [
        {
          "output_type": "stream",
          "name": "stdout",
          "text": [
            "Kmeans accuracy score: 48.16550462910047\n",
            "Kmeans precision score: 30.650887573964496\n",
            "Kmeans recall score: 44.6551724137931\n",
            "Kmeans f1 score: 36.35087719298246\n"
          ]
        }
      ],
      "source": [
        "print('Kmeans accuracy score:',kacc)\n",
        "print('Kmeans precision score:',kpre)\n",
        "print('Kmeans recall score:',kre)\n",
        "print('Kmeans f1 score:',kf1)"
      ]
    },
    {
      "cell_type": "markdown",
      "metadata": {
        "id": "LaBCStOuICYB"
      },
      "source": [
        "## Local Outlier Factor"
      ]
    },
    {
      "cell_type": "code",
      "execution_count": null,
      "metadata": {
        "id": "metallic-squad"
      },
      "outputs": [],
      "source": [
        "from sklearn.neighbors import LocalOutlierFactor"
      ]
    },
    {
      "cell_type": "code",
      "execution_count": null,
      "metadata": {
        "colab": {
          "base_uri": "https://localhost:8080/"
        },
        "id": "1pfQf8fSvv65",
        "outputId": "79a624d5-c8b6-4f30-ddf8-878c503a7f07"
      },
      "outputs": [
        {
          "output_type": "execute_result",
          "data": {
            "text/plain": [
              "0.3309557285415452"
            ]
          },
          "metadata": {},
          "execution_count": 168
        }
      ],
      "source": [
        "anomalies_fraction=len(fraud)/len(final_data)\n",
        "anomalies_fraction"
      ]
    },
    {
      "cell_type": "code",
      "execution_count": null,
      "metadata": {
        "id": "handled-bulgaria"
      },
      "outputs": [],
      "source": [
        "lof=LocalOutlierFactor(\n",
        "        n_neighbors=20,\n",
        "        contamination=anomalies_fraction,\n",
        "        novelty = True\n",
        "          )\n"
      ]
    },
    {
      "cell_type": "code",
      "execution_count": null,
      "metadata": {
        "colab": {
          "base_uri": "https://localhost:8080/"
        },
        "id": "fKmScUxVOnBc",
        "outputId": "a911deb0-0f66-45e0-91af-6f1e6f78a415"
      },
      "outputs": [
        {
          "output_type": "execute_result",
          "data": {
            "text/plain": [
              "LocalOutlierFactor(contamination=0.3309557285415452, novelty=True)"
            ]
          },
          "metadata": {},
          "execution_count": 170
        }
      ],
      "source": [
        "lof.fit(X_train)"
      ]
    },
    {
      "cell_type": "code",
      "execution_count": null,
      "metadata": {
        "id": "ldoGvDK1UiN6"
      },
      "outputs": [],
      "source": [
        "y_pred2 = lof.predict(X_test)"
      ]
    },
    {
      "cell_type": "code",
      "execution_count": null,
      "metadata": {
        "colab": {
          "base_uri": "https://localhost:8080/"
        },
        "id": "KtGosH9fhQxz",
        "outputId": "7521cd64-d13f-4d77-bbfa-ce8e8ed97f41"
      },
      "outputs": [
        {
          "output_type": "execute_result",
          "data": {
            "text/plain": [
              "array([-1, -1, -1, ...,  1,  1,  1])"
            ]
          },
          "metadata": {},
          "execution_count": 172
        }
      ],
      "source": [
        "y_pred2"
      ]
    },
    {
      "cell_type": "code",
      "execution_count": null,
      "metadata": {
        "colab": {
          "base_uri": "https://localhost:8080/"
        },
        "id": "u768RA7ShcJp",
        "outputId": "3ed0e1a7-e63e-4f6b-d036-c66e81979c7f"
      },
      "outputs": [
        {
          "output_type": "execute_result",
          "data": {
            "text/plain": [
              "(array([-1,  1]), array([3033, 5716]))"
            ]
          },
          "metadata": {},
          "execution_count": 173
        }
      ],
      "source": [
        "np.unique(y_pred2, return_counts=True)"
      ]
    },
    {
      "cell_type": "code",
      "execution_count": null,
      "metadata": {
        "id": "QVt2UtSbiKoB"
      },
      "outputs": [],
      "source": [
        "y_pred2[y_pred2==1]=0\n",
        "y_pred2[y_pred2==-1]=1"
      ]
    },
    {
      "cell_type": "code",
      "execution_count": null,
      "metadata": {
        "colab": {
          "base_uri": "https://localhost:8080/"
        },
        "id": "TaJi6hlwiXDS",
        "outputId": "c509931e-1149-4e08-f875-d20550ee438d"
      },
      "outputs": [
        {
          "output_type": "execute_result",
          "data": {
            "text/plain": [
              "(array([0, 1]), array([5716, 3033]))"
            ]
          },
          "metadata": {},
          "execution_count": 175
        }
      ],
      "source": [
        "np.unique(y_pred2, return_counts=True)"
      ]
    },
    {
      "cell_type": "code",
      "execution_count": null,
      "metadata": {
        "id": "ljPaWdBGidfe"
      },
      "outputs": [],
      "source": [
        "cn2 = confusion_matrix(y_test,y_pred2)"
      ]
    },
    {
      "cell_type": "code",
      "execution_count": null,
      "metadata": {
        "colab": {
          "base_uri": "https://localhost:8080/",
          "height": 174
        },
        "id": "o3ZiQjvHihk-",
        "outputId": "bb4feabf-4910-49ae-c7b6-956bf93304bc"
      },
      "outputs": [
        {
          "output_type": "execute_result",
          "data": {
            "text/plain": [
              "Predicted     0     1   All\n",
              "Actual                     \n",
              "0.0        3782  2067  5849\n",
              "1.0        1934   966  2900\n",
              "All        5716  3033  8749"
            ],
            "text/html": [
              "\n",
              "  <div id=\"df-a163e3c9-435a-43bf-a520-362b07f41d69\">\n",
              "    <div class=\"colab-df-container\">\n",
              "      <div>\n",
              "<style scoped>\n",
              "    .dataframe tbody tr th:only-of-type {\n",
              "        vertical-align: middle;\n",
              "    }\n",
              "\n",
              "    .dataframe tbody tr th {\n",
              "        vertical-align: top;\n",
              "    }\n",
              "\n",
              "    .dataframe thead th {\n",
              "        text-align: right;\n",
              "    }\n",
              "</style>\n",
              "<table border=\"1\" class=\"dataframe\">\n",
              "  <thead>\n",
              "    <tr style=\"text-align: right;\">\n",
              "      <th>Predicted</th>\n",
              "      <th>0</th>\n",
              "      <th>1</th>\n",
              "      <th>All</th>\n",
              "    </tr>\n",
              "    <tr>\n",
              "      <th>Actual</th>\n",
              "      <th></th>\n",
              "      <th></th>\n",
              "      <th></th>\n",
              "    </tr>\n",
              "  </thead>\n",
              "  <tbody>\n",
              "    <tr>\n",
              "      <th>0.0</th>\n",
              "      <td>3782</td>\n",
              "      <td>2067</td>\n",
              "      <td>5849</td>\n",
              "    </tr>\n",
              "    <tr>\n",
              "      <th>1.0</th>\n",
              "      <td>1934</td>\n",
              "      <td>966</td>\n",
              "      <td>2900</td>\n",
              "    </tr>\n",
              "    <tr>\n",
              "      <th>All</th>\n",
              "      <td>5716</td>\n",
              "      <td>3033</td>\n",
              "      <td>8749</td>\n",
              "    </tr>\n",
              "  </tbody>\n",
              "</table>\n",
              "</div>\n",
              "      <button class=\"colab-df-convert\" onclick=\"convertToInteractive('df-a163e3c9-435a-43bf-a520-362b07f41d69')\"\n",
              "              title=\"Convert this dataframe to an interactive table.\"\n",
              "              style=\"display:none;\">\n",
              "        \n",
              "  <svg xmlns=\"http://www.w3.org/2000/svg\" height=\"24px\"viewBox=\"0 0 24 24\"\n",
              "       width=\"24px\">\n",
              "    <path d=\"M0 0h24v24H0V0z\" fill=\"none\"/>\n",
              "    <path d=\"M18.56 5.44l.94 2.06.94-2.06 2.06-.94-2.06-.94-.94-2.06-.94 2.06-2.06.94zm-11 1L8.5 8.5l.94-2.06 2.06-.94-2.06-.94L8.5 2.5l-.94 2.06-2.06.94zm10 10l.94 2.06.94-2.06 2.06-.94-2.06-.94-.94-2.06-.94 2.06-2.06.94z\"/><path d=\"M17.41 7.96l-1.37-1.37c-.4-.4-.92-.59-1.43-.59-.52 0-1.04.2-1.43.59L10.3 9.45l-7.72 7.72c-.78.78-.78 2.05 0 2.83L4 21.41c.39.39.9.59 1.41.59.51 0 1.02-.2 1.41-.59l7.78-7.78 2.81-2.81c.8-.78.8-2.07 0-2.86zM5.41 20L4 18.59l7.72-7.72 1.47 1.35L5.41 20z\"/>\n",
              "  </svg>\n",
              "      </button>\n",
              "      \n",
              "  <style>\n",
              "    .colab-df-container {\n",
              "      display:flex;\n",
              "      flex-wrap:wrap;\n",
              "      gap: 12px;\n",
              "    }\n",
              "\n",
              "    .colab-df-convert {\n",
              "      background-color: #E8F0FE;\n",
              "      border: none;\n",
              "      border-radius: 50%;\n",
              "      cursor: pointer;\n",
              "      display: none;\n",
              "      fill: #1967D2;\n",
              "      height: 32px;\n",
              "      padding: 0 0 0 0;\n",
              "      width: 32px;\n",
              "    }\n",
              "\n",
              "    .colab-df-convert:hover {\n",
              "      background-color: #E2EBFA;\n",
              "      box-shadow: 0px 1px 2px rgba(60, 64, 67, 0.3), 0px 1px 3px 1px rgba(60, 64, 67, 0.15);\n",
              "      fill: #174EA6;\n",
              "    }\n",
              "\n",
              "    [theme=dark] .colab-df-convert {\n",
              "      background-color: #3B4455;\n",
              "      fill: #D2E3FC;\n",
              "    }\n",
              "\n",
              "    [theme=dark] .colab-df-convert:hover {\n",
              "      background-color: #434B5C;\n",
              "      box-shadow: 0px 1px 3px 1px rgba(0, 0, 0, 0.15);\n",
              "      filter: drop-shadow(0px 1px 2px rgba(0, 0, 0, 0.3));\n",
              "      fill: #FFFFFF;\n",
              "    }\n",
              "  </style>\n",
              "\n",
              "      <script>\n",
              "        const buttonEl =\n",
              "          document.querySelector('#df-a163e3c9-435a-43bf-a520-362b07f41d69 button.colab-df-convert');\n",
              "        buttonEl.style.display =\n",
              "          google.colab.kernel.accessAllowed ? 'block' : 'none';\n",
              "\n",
              "        async function convertToInteractive(key) {\n",
              "          const element = document.querySelector('#df-a163e3c9-435a-43bf-a520-362b07f41d69');\n",
              "          const dataTable =\n",
              "            await google.colab.kernel.invokeFunction('convertToInteractive',\n",
              "                                                     [key], {});\n",
              "          if (!dataTable) return;\n",
              "\n",
              "          const docLinkHtml = 'Like what you see? Visit the ' +\n",
              "            '<a target=\"_blank\" href=https://colab.research.google.com/notebooks/data_table.ipynb>data table notebook</a>'\n",
              "            + ' to learn more about interactive tables.';\n",
              "          element.innerHTML = '';\n",
              "          dataTable['output_type'] = 'display_data';\n",
              "          await google.colab.output.renderOutput(dataTable, element);\n",
              "          const docLink = document.createElement('div');\n",
              "          docLink.innerHTML = docLinkHtml;\n",
              "          element.appendChild(docLink);\n",
              "        }\n",
              "      </script>\n",
              "    </div>\n",
              "  </div>\n",
              "  "
            ]
          },
          "metadata": {},
          "execution_count": 177
        }
      ],
      "source": [
        "pd.crosstab(y_test,y_pred2, rownames=['Actual'], colnames=['Predicted'], margins= True)"
      ]
    },
    {
      "cell_type": "code",
      "execution_count": null,
      "metadata": {
        "colab": {
          "base_uri": "https://localhost:8080/",
          "height": 311
        },
        "id": "5eXetcyMUZUZ",
        "outputId": "2f06bf18-d251-45b9-e4a4-783ddb658caf"
      },
      "outputs": [
        {
          "output_type": "display_data",
          "data": {
            "text/plain": [
              "<Figure size 432x288 with 1 Axes>"
            ],
            "image/png": "[encoded data removed]"
          },
          "metadata": {
            "needs_background": "light"
          }
        }
      ],
      "source": [
        "sns.heatmap(cn2, annot=True, cbar=None, linewidths=.5, linecolor=\"Black\", cmap=\"Blues\", fmt = 'g')\n",
        "plt.title(\"Confusion Matrix\"), plt.tight_layout()\n",
        "plt.ylabel(\"True Class\"), plt.xlabel(\"Predicted Class\")\n",
        "plt.show()"
      ]
    },
    {
      "cell_type": "code",
      "execution_count": null,
      "metadata": {
        "colab": {
          "base_uri": "https://localhost:8080/"
        },
        "id": "5T594tgTinAX",
        "outputId": "852348af-cf8d-4b21-c7c4-461013eda121"
      },
      "outputs": [
        {
          "output_type": "stream",
          "name": "stdout",
          "text": [
            "              precision    recall  f1-score   support\n",
            "\n",
            "         0.0   0.661652  0.646606  0.654042      5849\n",
            "         1.0   0.318497  0.333103  0.325636      2900\n",
            "\n",
            "    accuracy                       0.542691      8749\n",
            "   macro avg   0.490074  0.489855  0.489839      8749\n",
            "weighted avg   0.547907  0.542691  0.545187      8749\n",
            "\n"
          ]
        }
      ],
      "source": [
        "print(classification_report(y_test,y_pred2,digits=6))"
      ]
    },
    {
      "cell_type": "code",
      "execution_count": null,
      "metadata": {
        "id": "MH0nJZfoW36n"
      },
      "outputs": [],
      "source": [
        "lofacc = accuracy_score(y_test,y_pred2)*100\n",
        "lofre = recall_score(y_test,y_pred2)*100\n",
        "lofpre = precision_score(y_test,y_pred2)*100\n",
        "loff1 = f1_score(y_test,y_pred2)*100"
      ]
    },
    {
      "cell_type": "code",
      "execution_count": null,
      "metadata": {
        "colab": {
          "base_uri": "https://localhost:8080/"
        },
        "id": "ihprd_RfSq1c",
        "outputId": "2db8e1d3-e0b6-4400-fe76-bb24fd0a328f"
      },
      "outputs": [
        {
          "output_type": "stream",
          "name": "stdout",
          "text": [
            "Local outlier factor accuracy score: 54.269059321065264\n",
            "Local outlier factor precision score: 31.849653808110784\n",
            "Local outlier factor recall score: 33.310344827586206\n",
            "Local outlier factor f1 score: 32.56362717006574\n"
          ]
        }
      ],
      "source": [
        "print('Local outlier factor accuracy score:',lofacc)\n",
        "print('Local outlier factor precision score:',lofpre)\n",
        "print('Local outlier factor recall score:',lofre)\n",
        "print('Local outlier factor f1 score:',loff1)"
      ]
    },
    {
      "cell_type": "markdown",
      "metadata": {
        "id": "xFmtD8u1ILUk"
      },
      "source": [
        "## Isolation Forest"
      ]
    },
    {
      "cell_type": "code",
      "execution_count": null,
      "metadata": {
        "id": "iPrFmK3Fi-sO"
      },
      "outputs": [],
      "source": [
        "from sklearn.ensemble import IsolationForest\n"
      ]
    },
    {
      "cell_type": "code",
      "execution_count": null,
      "metadata": {
        "id": "UJ48lQ_TvEK8"
      },
      "outputs": [],
      "source": [
        "Iso_Forest=IsolationForest(contamination=anomalies_fraction, max_samples=len(X))"
      ]
    },
    {
      "cell_type": "code",
      "execution_count": null,
      "metadata": {
        "colab": {
          "base_uri": "https://localhost:8080/"
        },
        "id": "Vloi-ukjv8OQ",
        "outputId": "b36ec93a-4ec2-4593-abd5-cb1e51d1c619"
      },
      "outputs": [
        {
          "output_type": "execute_result",
          "data": {
            "text/plain": [
              "IsolationForest(contamination=0.3309557285415452, max_samples=29161)"
            ]
          },
          "metadata": {},
          "execution_count": 184
        }
      ],
      "source": [
        "Iso_Forest.fit(X_train,y_train)"
      ]
    },
    {
      "cell_type": "code",
      "execution_count": null,
      "metadata": {
        "colab": {
          "base_uri": "https://localhost:8080/"
        },
        "id": "8WH2Pv-Mxms0",
        "outputId": "ee3a4ca0-a921-49a9-c619-cf946699bc9a"
      },
      "outputs": [
        {
          "output_type": "execute_result",
          "data": {
            "text/plain": [
              "array([-1,  1, -1, ...,  1,  1,  1])"
            ]
          },
          "metadata": {},
          "execution_count": 185
        }
      ],
      "source": [
        "y_pred3 = Iso_Forest.predict(X_test)\n",
        "y_pred3"
      ]
    },
    {
      "cell_type": "code",
      "execution_count": null,
      "metadata": {
        "colab": {
          "base_uri": "https://localhost:8080/"
        },
        "id": "Shjj-R7Sxymn",
        "outputId": "1f859cdf-a243-4c43-edce-b16c9a9738fb"
      },
      "outputs": [
        {
          "output_type": "execute_result",
          "data": {
            "text/plain": [
              "(array([-1,  1]), array([3072, 5677]))"
            ]
          },
          "metadata": {},
          "execution_count": 186
        }
      ],
      "source": [
        "np.unique(y_pred3, return_counts=True)"
      ]
    },
    {
      "cell_type": "code",
      "execution_count": null,
      "metadata": {
        "id": "InxbfTunyx8N"
      },
      "outputs": [],
      "source": [
        "y_pred3[y_pred3==1]=0\n",
        "y_pred3[y_pred3==-1]=1"
      ]
    },
    {
      "cell_type": "code",
      "execution_count": null,
      "metadata": {
        "colab": {
          "base_uri": "https://localhost:8080/"
        },
        "id": "_REqs0TPyzdk",
        "outputId": "7e68a921-81b1-47e4-c7f1-eba5c323a2e5"
      },
      "outputs": [
        {
          "output_type": "execute_result",
          "data": {
            "text/plain": [
              "(array([0, 1]), array([5677, 3072]))"
            ]
          },
          "metadata": {},
          "execution_count": 188
        }
      ],
      "source": [
        "np.unique(y_pred3, return_counts=True)"
      ]
    },
    {
      "cell_type": "code",
      "execution_count": null,
      "metadata": {
        "id": "yQ0Y14y0y4NP"
      },
      "outputs": [],
      "source": [
        "cn3 = confusion_matrix(y_test,y_pred3)"
      ]
    },
    {
      "cell_type": "code",
      "execution_count": null,
      "metadata": {
        "colab": {
          "base_uri": "https://localhost:8080/",
          "height": 174
        },
        "id": "Vqch4kKA1hqm",
        "outputId": "bcf0a747-c43b-496f-e144-882bf4848bce"
      },
      "outputs": [
        {
          "output_type": "execute_result",
          "data": {
            "text/plain": [
              "Predicted     0     1   All\n",
              "Actual                     \n",
              "0.0        3816  2033  5849\n",
              "1.0        1861  1039  2900\n",
              "All        5677  3072  8749"
            ],
            "text/html": [
              "\n",
              "  <div id=\"df-1488476a-9140-444c-96cb-d3041a6d1d77\">\n",
              "    <div class=\"colab-df-container\">\n",
              "      <div>\n",
              "<style scoped>\n",
              "    .dataframe tbody tr th:only-of-type {\n",
              "        vertical-align: middle;\n",
              "    }\n",
              "\n",
              "    .dataframe tbody tr th {\n",
              "        vertical-align: top;\n",
              "    }\n",
              "\n",
              "    .dataframe thead th {\n",
              "        text-align: right;\n",
              "    }\n",
              "</style>\n",
              "<table border=\"1\" class=\"dataframe\">\n",
              "  <thead>\n",
              "    <tr style=\"text-align: right;\">\n",
              "      <th>Predicted</th>\n",
              "      <th>0</th>\n",
              "      <th>1</th>\n",
              "      <th>All</th>\n",
              "    </tr>\n",
              "    <tr>\n",
              "      <th>Actual</th>\n",
              "      <th></th>\n",
              "      <th></th>\n",
              "      <th></th>\n",
              "    </tr>\n",
              "  </thead>\n",
              "  <tbody>\n",
              "    <tr>\n",
              "      <th>0.0</th>\n",
              "      <td>3816</td>\n",
              "      <td>2033</td>\n",
              "      <td>5849</td>\n",
              "    </tr>\n",
              "    <tr>\n",
              "      <th>1.0</th>\n",
              "      <td>1861</td>\n",
              "      <td>1039</td>\n",
              "      <td>2900</td>\n",
              "    </tr>\n",
              "    <tr>\n",
              "      <th>All</th>\n",
              "      <td>5677</td>\n",
              "      <td>3072</td>\n",
              "      <td>8749</td>\n",
              "    </tr>\n",
              "  </tbody>\n",
              "</table>\n",
              "</div>\n",
              "      <button class=\"colab-df-convert\" onclick=\"convertToInteractive('df-1488476a-9140-444c-96cb-d3041a6d1d77')\"\n",
              "              title=\"Convert this dataframe to an interactive table.\"\n",
              "              style=\"display:none;\">\n",
              "        \n",
              "  <svg xmlns=\"http://www.w3.org/2000/svg\" height=\"24px\"viewBox=\"0 0 24 24\"\n",
              "       width=\"24px\">\n",
              "    <path d=\"M0 0h24v24H0V0z\" fill=\"none\"/>\n",
              "    <path d=\"M18.56 5.44l.94 2.06.94-2.06 2.06-.94-2.06-.94-.94-2.06-.94 2.06-2.06.94zm-11 1L8.5 8.5l.94-2.06 2.06-.94-2.06-.94L8.5 2.5l-.94 2.06-2.06.94zm10 10l.94 2.06.94-2.06 2.06-.94-2.06-.94-.94-2.06-.94 2.06-2.06.94z\"/><path d=\"M17.41 7.96l-1.37-1.37c-.4-.4-.92-.59-1.43-.59-.52 0-1.04.2-1.43.59L10.3 9.45l-7.72 7.72c-.78.78-.78 2.05 0 2.83L4 21.41c.39.39.9.59 1.41.59.51 0 1.02-.2 1.41-.59l7.78-7.78 2.81-2.81c.8-.78.8-2.07 0-2.86zM5.41 20L4 18.59l7.72-7.72 1.47 1.35L5.41 20z\"/>\n",
              "  </svg>\n",
              "      </button>\n",
              "      \n",
              "  <style>\n",
              "    .colab-df-container {\n",
              "      display:flex;\n",
              "      flex-wrap:wrap;\n",
              "      gap: 12px;\n",
              "    }\n",
              "\n",
              "    .colab-df-convert {\n",
              "      background-color: #E8F0FE;\n",
              "      border: none;\n",
              "      border-radius: 50%;\n",
              "      cursor: pointer;\n",
              "      display: none;\n",
              "      fill: #1967D2;\n",
              "      height: 32px;\n",
              "      padding: 0 0 0 0;\n",
              "      width: 32px;\n",
              "    }\n",
              "\n",
              "    .colab-df-convert:hover {\n",
              "      background-color: #E2EBFA;\n",
              "      box-shadow: 0px 1px 2px rgba(60, 64, 67, 0.3), 0px 1px 3px 1px rgba(60, 64, 67, 0.15);\n",
              "      fill: #174EA6;\n",
              "    }\n",
              "\n",
              "    [theme=dark] .colab-df-convert {\n",
              "      background-color: #3B4455;\n",
              "      fill: #D2E3FC;\n",
              "    }\n",
              "\n",
              "    [theme=dark] .colab-df-convert:hover {\n",
              "      background-color: #434B5C;\n",
              "      box-shadow: 0px 1px 3px 1px rgba(0, 0, 0, 0.15);\n",
              "      filter: drop-shadow(0px 1px 2px rgba(0, 0, 0, 0.3));\n",
              "      fill: #FFFFFF;\n",
              "    }\n",
              "  </style>\n",
              "\n",
              "      <script>\n",
              "        const buttonEl =\n",
              "          document.querySelector('#df-1488476a-9140-444c-96cb-d3041a6d1d77 button.colab-df-convert');\n",
              "        buttonEl.style.display =\n",
              "          google.colab.kernel.accessAllowed ? 'block' : 'none';\n",
              "\n",
              "        async function convertToInteractive(key) {\n",
              "          const element = document.querySelector('#df-1488476a-9140-444c-96cb-d3041a6d1d77');\n",
              "          const dataTable =\n",
              "            await google.colab.kernel.invokeFunction('convertToInteractive',\n",
              "                                                     [key], {});\n",
              "          if (!dataTable) return;\n",
              "\n",
              "          const docLinkHtml = 'Like what you see? Visit the ' +\n",
              "            '<a target=\"_blank\" href=https://colab.research.google.com/notebooks/data_table.ipynb>data table notebook</a>'\n",
              "            + ' to learn more about interactive tables.';\n",
              "          element.innerHTML = '';\n",
              "          dataTable['output_type'] = 'display_data';\n",
              "          await google.colab.output.renderOutput(dataTable, element);\n",
              "          const docLink = document.createElement('div');\n",
              "          docLink.innerHTML = docLinkHtml;\n",
              "          element.appendChild(docLink);\n",
              "        }\n",
              "      </script>\n",
              "    </div>\n",
              "  </div>\n",
              "  "
            ]
          },
          "metadata": {},
          "execution_count": 190
        }
      ],
      "source": [
        "pd.crosstab(y_test,y_pred3, rownames=['Actual'], colnames=['Predicted'], margins= True)"
      ]
    },
    {
      "cell_type": "code",
      "execution_count": null,
      "metadata": {
        "colab": {
          "base_uri": "https://localhost:8080/",
          "height": 311
        },
        "id": "xXdy-S8PUih-",
        "outputId": "de48b95c-48ca-4c32-9c15-0ab36b88b4bd"
      },
      "outputs": [
        {
          "output_type": "display_data",
          "data": {
            "text/plain": [
              "<Figure size 432x288 with 1 Axes>"
            ],
            "image/png": "[encoded data removed]"
          },
          "metadata": {
            "needs_background": "light"
          }
        }
      ],
      "source": [
        "sns.heatmap(cn3, annot=True, cbar=None, linewidths=.5, linecolor=\"Black\", cmap=\"Blues\", fmt = 'g')\n",
        "plt.title(\"Confusion Matrix\"), plt.tight_layout()\n",
        "plt.ylabel(\"True Class\"), plt.xlabel(\"Predicted Class\")\n",
        "plt.show()"
      ]
    },
    {
      "cell_type": "code",
      "execution_count": null,
      "metadata": {
        "colab": {
          "base_uri": "https://localhost:8080/"
        },
        "id": "igwKwFtgzNcC",
        "outputId": "bfb4edbd-9371-4f55-e568-b780560e68af"
      },
      "outputs": [
        {
          "output_type": "stream",
          "name": "stdout",
          "text": [
            "              precision    recall  f1-score   support\n",
            "\n",
            "         0.0   0.672186  0.652419  0.662155      5849\n",
            "         1.0   0.338216  0.358276  0.347957      2900\n",
            "\n",
            "    accuracy                       0.554921      8749\n",
            "   macro avg   0.505201  0.505348  0.505056      8749\n",
            "weighted avg   0.561486  0.554921  0.558009      8749\n",
            "\n"
          ]
        }
      ],
      "source": [
        "print(classification_report(y_test,y_pred3,digits=6))"
      ]
    },
    {
      "cell_type": "code",
      "execution_count": null,
      "metadata": {
        "id": "5Cc2iEtHVM-t"
      },
      "outputs": [],
      "source": [
        "isofpre = precision_score(y_test,y_pred3)*100\n",
        "isofre = recall_score(y_test,y_pred3)*100 \n",
        "isofacc = accuracy_score(y_test,y_pred3)*100\n",
        "isoff1 = f1_score(y_test,y_pred3)*100"
      ]
    },
    {
      "cell_type": "code",
      "execution_count": null,
      "metadata": {
        "colab": {
          "base_uri": "https://localhost:8080/"
        },
        "id": "FK43JzWm_7D4",
        "outputId": "28218b86-4235-4aae-c446-0a2c665326c6"
      },
      "outputs": [
        {
          "output_type": "stream",
          "name": "stdout",
          "text": [
            "Isolation forest accuracy score: 55.49205623499829\n",
            "Isolation forest precision score: 33.82161458333333\n",
            "Isolation forest recall score: 35.82758620689655\n",
            "Isolation forest f1 score: 34.79571332886805\n"
          ]
        }
      ],
      "source": [
        "print('Isolation forest accuracy score:',isofacc)\n",
        "print('Isolation forest precision score:',isofpre)\n",
        "print('Isolation forest recall score:',isofre)\n",
        "print('Isolation forest f1 score:',isoff1)"
      ]
    },
    {
      "cell_type": "markdown",
      "metadata": {
        "id": "UZJqZeFBITVp"
      },
      "source": [
        "## Neural Networks"
      ]
    },
    {
      "cell_type": "code",
      "execution_count": null,
      "metadata": {
        "id": "hQHlNKR7RFZo"
      },
      "outputs": [],
      "source": [
        "from keras.models import Sequential\n",
        "from keras.layers import Dense, Dropout"
      ]
    },
    {
      "cell_type": "code",
      "execution_count": null,
      "metadata": {
        "id": "hjrRX-oAQpfw"
      },
      "outputs": [],
      "source": [
        "# We are transforming data to numpy array to implementing with keras\n",
        "X_train = np.array(X_train)\n",
        "X_test = np.array(X_test)\n",
        "y_train = np.array(y_train)\n",
        "y_test = np.array(y_test)"
      ]
    },
    {
      "cell_type": "code",
      "execution_count": null,
      "metadata": {
        "colab": {
          "base_uri": "https://localhost:8080/"
        },
        "id": "zNDqJY4gYU0x",
        "outputId": "096c1fd5-e1e1-4f6d-8a9e-88c4d8109f90"
      },
      "outputs": [
        {
          "output_type": "execute_result",
          "data": {
            "text/plain": [
              "(20412, 30)"
            ]
          },
          "metadata": {},
          "execution_count": 197
        }
      ],
      "source": [
        "X_train.shape"
      ]
    },
    {
      "cell_type": "code",
      "execution_count": null,
      "metadata": {
        "id": "taOD6aNCX5bp"
      },
      "outputs": [],
      "source": [
        "model = Sequential([\n",
        "    Dense(units=16, input_dim = 30,activation='relu'),   # input of 30 columns as shown above\n",
        "    Dense(units=24,activation='relu'),\n",
        "    Dropout(0.5),\n",
        "    Dense(24,activation='relu'),\n",
        "    Dense(24,activation='relu'),\n",
        "    Dense(1,activation='sigmoid'),                        # binary classification fraudulent or not\n",
        "])"
      ]
    },
    {
      "cell_type": "code",
      "execution_count": null,
      "metadata": {
        "colab": {
          "base_uri": "https://localhost:8080/"
        },
        "id": "d9GqgnQWYGzW",
        "outputId": "de86588f-da13-4625-c035-076f17320870"
      },
      "outputs": [
        {
          "output_type": "stream",
          "name": "stdout",
          "text": [
            "Epoch 1/5\n",
            "1361/1361 [==============================] - 3s 2ms/step - loss: 0.5743 - accuracy: 0.7081\n",
            "Epoch 2/5\n",
            "1361/1361 [==============================] - 2s 2ms/step - loss: 0.4423 - accuracy: 0.8221\n",
            "Epoch 3/5\n",
            "1361/1361 [==============================] - 2s 2ms/step - loss: 0.3462 - accuracy: 0.8723\n",
            "Epoch 4/5\n",
            "1361/1361 [==============================] - 3s 2ms/step - loss: 0.3075 - accuracy: 0.8832\n",
            "Epoch 5/5\n",
            "1361/1361 [==============================] - 3s 2ms/step - loss: 0.2897 - accuracy: 0.8869\n"
          ]
        },
        {
          "output_type": "execute_result",
          "data": {
            "text/plain": [
              "<keras.callbacks.History at 0x7f03d38c1410>"
            ]
          },
          "metadata": {},
          "execution_count": 199
        }
      ],
      "source": [
        "model.compile(optimizer='adam',loss='binary_crossentropy',metrics=['accuracy'])\n",
        "model.fit(X_train,y_train,batch_size=15,epochs=5)"
      ]
    },
    {
      "cell_type": "code",
      "execution_count": null,
      "metadata": {
        "id": "YV0usBOFUn94"
      },
      "outputs": [],
      "source": [
        "y_pred4 = model.predict(X_test)"
      ]
    },
    {
      "cell_type": "code",
      "execution_count": null,
      "metadata": {
        "colab": {
          "base_uri": "https://localhost:8080/"
        },
        "id": "xlO5mHIbUz9P",
        "outputId": "3715c743-a54a-4b8d-fd0a-ecb6e4a45697"
      },
      "outputs": [
        {
          "output_type": "execute_result",
          "data": {
            "text/plain": [
              "array([0.9710874], dtype=float32)"
            ]
          },
          "metadata": {},
          "execution_count": 201
        }
      ],
      "source": [
        "y_pred4[1]"
      ]
    },
    {
      "cell_type": "code",
      "execution_count": null,
      "metadata": {
        "colab": {
          "base_uri": "https://localhost:8080/"
        },
        "id": "Y2FsxsnqU393",
        "outputId": "84346694-222b-4386-c6eb-c8f5f3633af3"
      },
      "outputs": [
        {
          "output_type": "stream",
          "name": "stdout",
          "text": [
            "274/274 [==============================] - 0s 1ms/step - loss: 0.2636 - accuracy: 0.9027\n"
          ]
        },
        {
          "output_type": "execute_result",
          "data": {
            "text/plain": [
              "[0.26360267400741577, 0.902731716632843]"
            ]
          },
          "metadata": {},
          "execution_count": 202
        }
      ],
      "source": [
        "model.evaluate(X_test,y_test)"
      ]
    },
    {
      "cell_type": "code",
      "execution_count": null,
      "metadata": {
        "colab": {
          "base_uri": "https://localhost:8080/"
        },
        "id": "A8G3aRkbVK4D",
        "outputId": "17fa33f1-d503-4b2f-eae9-171f8ef4e14d"
      },
      "outputs": [
        {
          "output_type": "execute_result",
          "data": {
            "text/plain": [
              "array([[5767,   82],\n",
              "       [ 769, 2131]])"
            ]
          },
          "metadata": {},
          "execution_count": 203
        }
      ],
      "source": [
        "cn4 = confusion_matrix(y_test,y_pred4.round())\n",
        "cn4"
      ]
    },
    {
      "cell_type": "code",
      "execution_count": null,
      "metadata": {
        "colab": {
          "base_uri": "https://localhost:8080/",
          "height": 311
        },
        "id": "8BAbDEDYUxjr",
        "outputId": "ca883d7b-02bc-43bd-d99b-6ff57a10ca30"
      },
      "outputs": [
        {
          "output_type": "display_data",
          "data": {
            "text/plain": [
              "<Figure size 432x288 with 1 Axes>"
            ],
            "image/png": "[encoded data removed]"
          },
          "metadata": {
            "needs_background": "light"
          }
        }
      ],
      "source": [
        "sns.heatmap(cn4, annot=True, cbar=None,  linewidths=.5, linecolor=\"Black\", cmap=\"Blues\", fmt = 'g')\n",
        "plt.title(\"Confusion Matrix\"), plt.tight_layout()\n",
        "plt.ylabel(\"True Class\"), plt.xlabel(\"Predicted Class\")\n",
        "plt.show()"
      ]
    },
    {
      "cell_type": "code",
      "execution_count": null,
      "metadata": {
        "colab": {
          "base_uri": "https://localhost:8080/"
        },
        "id": "lWaETezeXNhb",
        "outputId": "5576f3a4-795e-4b50-9bd4-90c681f8d818"
      },
      "outputs": [
        {
          "output_type": "stream",
          "name": "stdout",
          "text": [
            "              precision    recall  f1-score   support\n",
            "\n",
            "         0.0   0.882344  0.985981  0.931288      5849\n",
            "         1.0   0.962946  0.734828  0.833562      2900\n",
            "\n",
            "    accuracy                       0.902732      8749\n",
            "   macro avg   0.922645  0.860404  0.882425      8749\n",
            "weighted avg   0.909061  0.902732  0.898895      8749\n",
            "\n"
          ]
        }
      ],
      "source": [
        "print(classification_report(y_test,y_pred4.round(),digits=6))"
      ]
    },
    {
      "cell_type": "code",
      "execution_count": null,
      "metadata": {
        "id": "AsPe0o_sIXyO"
      },
      "outputs": [],
      "source": [
        "nnacc = accuracy_score(y_test,y_pred4.round())*100\n",
        "nnpre = precision_score(y_test,y_pred4.round())*100\n",
        "nnre = recall_score(y_test,y_pred4.round())*100\n",
        "nnf1 = f1_score(y_test,y_pred4.round())*100"
      ]
    },
    {
      "cell_type": "code",
      "execution_count": null,
      "metadata": {
        "colab": {
          "base_uri": "https://localhost:8080/"
        },
        "id": "EDvBsrXff9Lt",
        "outputId": "a054ed6d-5caf-44c8-a7cf-6762522f80fb"
      },
      "outputs": [
        {
          "output_type": "stream",
          "name": "stdout",
          "text": [
            "Neural network accuracy score: 90.27317407703738\n",
            "Neural network precision score: 96.29462268413917\n",
            "Neural network recall score: 73.48275862068967\n",
            "Neural network f1 score: 83.35615098767846\n"
          ]
        }
      ],
      "source": [
        "print('Neural network accuracy score:',nnacc)\n",
        "print('Neural network precision score:',nnpre)\n",
        "print('Neural network recall score:',nnre)\n",
        "print('Neural network f1 score:',nnf1)"
      ]
    },
    {
      "cell_type": "markdown",
      "metadata": {
        "id": "0ZdTj-ptLNRF"
      },
      "source": [
        "# Model Comparision"
      ]
    },
    {
      "cell_type": "code",
      "execution_count": null,
      "metadata": {
        "colab": {
          "base_uri": "https://localhost:8080/",
          "height": 206
        },
        "id": "lJNgDdDCdoha",
        "outputId": "5a88c57b-c27b-490c-e604-02276ff773f0"
      },
      "outputs": [
        {
          "output_type": "execute_result",
          "data": {
            "text/plain": [
              "                 Models   Accuracy  Precision  FalseNegRate     Recall  \\\n",
              "0   Logestic Regression  87.781461  90.490933     29.448276  70.551724   \n",
              "1  Local Outlier Factor  54.269059  31.849654     66.689655  33.310345   \n",
              "2      Isolation Forest  55.492056  33.821615     64.172414  35.827586   \n",
              "3    K-Means Clustering  48.165505  30.650888     55.344828  44.655172   \n",
              "4       Neural Networks  90.273174  96.294623     26.517241  73.482759   \n",
              "\n",
              "     f1score  \n",
              "0  79.286960  \n",
              "1  32.563627  \n",
              "2  34.795713  \n",
              "3  36.350877  \n",
              "4  83.356151  "
            ],
            "text/html": [
              "\n",
              "  <div id=\"df-4aac4f88-fc47-4647-a619-8206b6803810\">\n",
              "    <div class=\"colab-df-container\">\n",
              "      <div>\n",
              "<style scoped>\n",
              "    .dataframe tbody tr th:only-of-type {\n",
              "        vertical-align: middle;\n",
              "    }\n",
              "\n",
              "    .dataframe tbody tr th {\n",
              "        vertical-align: top;\n",
              "    }\n",
              "\n",
              "    .dataframe thead th {\n",
              "        text-align: right;\n",
              "    }\n",
              "</style>\n",
              "<table border=\"1\" class=\"dataframe\">\n",
              "  <thead>\n",
              "    <tr style=\"text-align: right;\">\n",
              "      <th></th>\n",
              "      <th>Models</th>\n",
              "      <th>Accuracy</th>\n",
              "      <th>Precision</th>\n",
              "      <th>FalseNegRate</th>\n",
              "      <th>Recall</th>\n",
              "      <th>f1score</th>\n",
              "    </tr>\n",
              "  </thead>\n",
              "  <tbody>\n",
              "    <tr>\n",
              "      <th>0</th>\n",
              "      <td>Logestic Regression</td>\n",
              "      <td>87.781461</td>\n",
              "      <td>90.490933</td>\n",
              "      <td>29.448276</td>\n",
              "      <td>70.551724</td>\n",
              "      <td>79.286960</td>\n",
              "    </tr>\n",
              "    <tr>\n",
              "      <th>1</th>\n",
              "      <td>Local Outlier Factor</td>\n",
              "      <td>54.269059</td>\n",
              "      <td>31.849654</td>\n",
              "      <td>66.689655</td>\n",
              "      <td>33.310345</td>\n",
              "      <td>32.563627</td>\n",
              "    </tr>\n",
              "    <tr>\n",
              "      <th>2</th>\n",
              "      <td>Isolation Forest</td>\n",
              "      <td>55.492056</td>\n",
              "      <td>33.821615</td>\n",
              "      <td>64.172414</td>\n",
              "      <td>35.827586</td>\n",
              "      <td>34.795713</td>\n",
              "    </tr>\n",
              "    <tr>\n",
              "      <th>3</th>\n",
              "      <td>K-Means Clustering</td>\n",
              "      <td>48.165505</td>\n",
              "      <td>30.650888</td>\n",
              "      <td>55.344828</td>\n",
              "      <td>44.655172</td>\n",
              "      <td>36.350877</td>\n",
              "    </tr>\n",
              "    <tr>\n",
              "      <th>4</th>\n",
              "      <td>Neural Networks</td>\n",
              "      <td>90.273174</td>\n",
              "      <td>96.294623</td>\n",
              "      <td>26.517241</td>\n",
              "      <td>73.482759</td>\n",
              "      <td>83.356151</td>\n",
              "    </tr>\n",
              "  </tbody>\n",
              "</table>\n",
              "</div>\n",
              "      <button class=\"colab-df-convert\" onclick=\"convertToInteractive('df-4aac4f88-fc47-4647-a619-8206b6803810')\"\n",
              "              title=\"Convert this dataframe to an interactive table.\"\n",
              "              style=\"display:none;\">\n",
              "        \n",
              "  <svg xmlns=\"http://www.w3.org/2000/svg\" height=\"24px\"viewBox=\"0 0 24 24\"\n",
              "       width=\"24px\">\n",
              "    <path d=\"M0 0h24v24H0V0z\" fill=\"none\"/>\n",
              "    <path d=\"M18.56 5.44l.94 2.06.94-2.06 2.06-.94-2.06-.94-.94-2.06-.94 2.06-2.06.94zm-11 1L8.5 8.5l.94-2.06 2.06-.94-2.06-.94L8.5 2.5l-.94 2.06-2.06.94zm10 10l.94 2.06.94-2.06 2.06-.94-2.06-.94-.94-2.06-.94 2.06-2.06.94z\"/><path d=\"M17.41 7.96l-1.37-1.37c-.4-.4-.92-.59-1.43-.59-.52 0-1.04.2-1.43.59L10.3 9.45l-7.72 7.72c-.78.78-.78 2.05 0 2.83L4 21.41c.39.39.9.59 1.41.59.51 0 1.02-.2 1.41-.59l7.78-7.78 2.81-2.81c.8-.78.8-2.07 0-2.86zM5.41 20L4 18.59l7.72-7.72 1.47 1.35L5.41 20z\"/>\n",
              "  </svg>\n",
              "      </button>\n",
              "      \n",
              "  <style>\n",
              "    .colab-df-container {\n",
              "      display:flex;\n",
              "      flex-wrap:wrap;\n",
              "      gap: 12px;\n",
              "    }\n",
              "\n",
              "    .colab-df-convert {\n",
              "      background-color: #E8F0FE;\n",
              "      border: none;\n",
              "      border-radius: 50%;\n",
              "      cursor: pointer;\n",
              "      display: none;\n",
              "      fill: #1967D2;\n",
              "      height: 32px;\n",
              "      padding: 0 0 0 0;\n",
              "      width: 32px;\n",
              "    }\n",
              "\n",
              "    .colab-df-convert:hover {\n",
              "      background-color: #E2EBFA;\n",
              "      box-shadow: 0px 1px 2px rgba(60, 64, 67, 0.3), 0px 1px 3px 1px rgba(60, 64, 67, 0.15);\n",
              "      fill: #174EA6;\n",
              "    }\n",
              "\n",
              "    [theme=dark] .colab-df-convert {\n",
              "      background-color: #3B4455;\n",
              "      fill: #D2E3FC;\n",
              "    }\n",
              "\n",
              "    [theme=dark] .colab-df-convert:hover {\n",
              "      background-color: #434B5C;\n",
              "      box-shadow: 0px 1px 3px 1px rgba(0, 0, 0, 0.15);\n",
              "      filter: drop-shadow(0px 1px 2px rgba(0, 0, 0, 0.3));\n",
              "      fill: #FFFFFF;\n",
              "    }\n",
              "  </style>\n",
              "\n",
              "      <script>\n",
              "        const buttonEl =\n",
              "          document.querySelector('#df-4aac4f88-fc47-4647-a619-8206b6803810 button.colab-df-convert');\n",
              "        buttonEl.style.display =\n",
              "          google.colab.kernel.accessAllowed ? 'block' : 'none';\n",
              "\n",
              "        async function convertToInteractive(key) {\n",
              "          const element = document.querySelector('#df-4aac4f88-fc47-4647-a619-8206b6803810');\n",
              "          const dataTable =\n",
              "            await google.colab.kernel.invokeFunction('convertToInteractive',\n",
              "                                                     [key], {});\n",
              "          if (!dataTable) return;\n",
              "\n",
              "          const docLinkHtml = 'Like what you see? Visit the ' +\n",
              "            '<a target=\"_blank\" href=https://colab.research.google.com/notebooks/data_table.ipynb>data table notebook</a>'\n",
              "            + ' to learn more about interactive tables.';\n",
              "          element.innerHTML = '';\n",
              "          dataTable['output_type'] = 'display_data';\n",
              "          await google.colab.output.renderOutput(dataTable, element);\n",
              "          const docLink = document.createElement('div');\n",
              "          docLink.innerHTML = docLinkHtml;\n",
              "          element.appendChild(docLink);\n",
              "        }\n",
              "      </script>\n",
              "    </div>\n",
              "  </div>\n",
              "  "
            ]
          },
          "metadata": {},
          "execution_count": 208
        }
      ],
      "source": [
        "table = pd.DataFrame({'Models':['Logestic Regression','Local Outlier Factor','Isolation Forest','K-Means Clustering','Neural Networks'],\n",
        "                      'Accuracy':[logacc,lofacc,isofacc,kacc,nnacc],\n",
        "                      'Precision':[logpre,lofpre,isofpre,kpre,nnpre],\n",
        "                      'FalseNegRate':[(100-logre),(100-lofre),(100-isofre),(100-kre),(100-nnre)],\n",
        "                      'Recall':[logre,lofre,isofre,kre,nnre],\n",
        "                      'f1score':[logf1,loff1,isoff1,kf1,nnf1]})\n",
        "table"
      ]
    },
    {
      "cell_type": "code",
      "execution_count": null,
      "metadata": {
        "id": "lzglPZj6_PNK"
      },
      "outputs": [],
      "source": [
        "table.to_csv(r'/content/drive/MyDrive/capstone/model_result2.csv', index = False)"
      ]
    },
    {
      "cell_type": "code",
      "execution_count": null,
      "metadata": {
        "colab": {
          "base_uri": "https://localhost:8080/",
          "height": 477
        },
        "id": "ZbzCtvKxgR7I",
        "outputId": "5a75c219-d0f4-40b5-9b59-4af7e135212e"
      },
      "outputs": [
        {
          "output_type": "display_data",
          "data": {
            "text/plain": [
              "<Figure size 720x432 with 1 Axes>"
            ],
            "image/png": "[encoded data removed]"
          },
          "metadata": {
            "needs_background": "light"
          }
        }
      ],
      "source": [
        "plt.figure(figsize = (10,6))\n",
        "sns.barplot(y = table.Accuracy,x = table.Models)\n",
        "plt.xticks(rotation = 'vertical')\n",
        "plt.show()"
      ]
    },
    {
      "cell_type": "code",
      "execution_count": null,
      "metadata": {
        "colab": {
          "base_uri": "https://localhost:8080/",
          "height": 478
        },
        "id": "72AP263ogKrB",
        "outputId": "01e0af60-59f0-48c9-a31c-816b4b086e34"
      },
      "outputs": [
        {
          "output_type": "display_data",
          "data": {
            "text/plain": [
              "<Figure size 720x432 with 1 Axes>"
            ],
            "image/png": "[encoded data removed]"
          },
          "metadata": {
            "needs_background": "light"
          }
        }
      ],
      "source": [
        "plt.figure(figsize = (10,6))\n",
        "sns.barplot(y = table.Precision,x = table.Models)\n",
        "plt.xticks(rotation = 'vertical')\n",
        "plt.show()"
      ]
    },
    {
      "cell_type": "code",
      "execution_count": null,
      "metadata": {
        "colab": {
          "base_uri": "https://localhost:8080/",
          "height": 481
        },
        "id": "-MZzp6DNL0BD",
        "outputId": "37cc9001-0b9a-4601-89c4-0abe3fb15745"
      },
      "outputs": [
        {
          "output_type": "display_data",
          "data": {
            "text/plain": [
              "<Figure size 720x432 with 1 Axes>"
            ],
            "image/png": "[encoded data removed]"
          },
          "metadata": {
            "needs_background": "light"
          }
        }
      ],
      "source": [
        "plt.figure(figsize = (10,6))\n",
        "sns.barplot(y = table.FalseNegRate,x = table.Models)\n",
        "plt.xticks(rotation = 'vertical')\n",
        "plt.show()"
      ]
    },
    {
      "cell_type": "code",
      "execution_count": null,
      "metadata": {
        "colab": {
          "base_uri": "https://localhost:8080/",
          "height": 477
        },
        "id": "00du-2-7gO5F",
        "outputId": "a14dc7a4-5cf1-4a78-ea5a-776d7e7dfa5c"
      },
      "outputs": [
        {
          "output_type": "display_data",
          "data": {
            "text/plain": [
              "<Figure size 720x432 with 1 Axes>"
            ],
            "image/png": "[encoded data removed]"
          },
          "metadata": {
            "needs_background": "light"
          }
        }
      ],
      "source": [
        "plt.figure(figsize = (10,6))\n",
        "sns.barplot(y = table.Recall,x = table.Models)\n",
        "plt.xticks(rotation = 'vertical')\n",
        "plt.show()"
      ]
    },
    {
      "cell_type": "code",
      "execution_count": null,
      "metadata": {
        "colab": {
          "base_uri": "https://localhost:8080/",
          "height": 477
        },
        "id": "NSdFyKnmukwO",
        "outputId": "8783d85f-4fcd-4aba-e930-d28676e21d0c"
      },
      "outputs": [
        {
          "output_type": "display_data",
          "data": {
            "text/plain": [
              "<Figure size 720x432 with 1 Axes>"
            ],
            "image/png": "[encoded data removed]"
          },
          "metadata": {
            "needs_background": "light"
          }
        }
      ],
      "source": [
        "plt.figure(figsize = (10,6))\n",
        "sns.barplot(y = table.f1score,x = table.Models)\n",
        "plt.xticks(rotation = 'vertical')\n",
        "plt.show()"
      ]
    }
  ],
  "metadata": {
    "colab": {
      "collapsed_sections": [],
      "name": "dataset2_creditcard_fraud detection_final code.ipynb",
      "provenance": [],
      "toc_visible": true
    },
    "kernelspec": {
      "display_name": "Python 3",
      "name": "python3"
    },
    "language_info": {
      "name": "python"
    }
  },
  "nbformat": 4,
  "nbformat_minor": 0
}